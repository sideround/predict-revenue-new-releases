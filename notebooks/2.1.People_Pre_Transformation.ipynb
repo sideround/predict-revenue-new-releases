{
 "cells": [
  {
   "cell_type": "markdown",
   "metadata": {},
   "source": [
    "In order to encode our `Cast` column we need to retrieve all data from each actor. In this notebook we will take care to build a dataset and get all movies from each actor by release year."
   ]
  },
  {
   "cell_type": "markdown",
   "metadata": {},
   "source": [
    "## Imports"
   ]
  },
  {
   "cell_type": "code",
   "execution_count": 1,
   "metadata": {},
   "outputs": [],
   "source": [
    "import pandas as pd\n",
    "import re\n",
    "import numpy as np\n",
    "import json\n",
    "\n",
    "import sys\n",
    "sys.path.append('../source/')\n",
    "\n",
    "import helpers"
   ]
  },
  {
   "cell_type": "markdown",
   "metadata": {},
   "source": [
    "Here we retrieve the transformed dataset exported in the previous notebook."
   ]
  },
  {
   "cell_type": "code",
   "execution_count": 2,
   "metadata": {},
   "outputs": [
    {
     "name": "stderr",
     "output_type": "stream",
     "text": [
      "/usr/local/Cellar/ipython/7.8.0/libexec/lib/python3.7/site-packages/IPython/core/interactiveshell.py:3058: DtypeWarning: Columns (28) have mixed types. Specify dtype option on import or set low_memory=False.\n",
      "  interactivity=interactivity, compiler=compiler, result=result)\n"
     ]
    }
   ],
   "source": [
    "movies_df = pd.read_csv(\"../data/processed/transformation/movies_transformed_list.csv\", index_col=0)"
   ]
  },
  {
   "cell_type": "code",
   "execution_count": 3,
   "metadata": {},
   "outputs": [
    {
     "data": {
      "text/plain": [
       "(251024, 30)"
      ]
     },
     "execution_count": 3,
     "metadata": {},
     "output_type": "execute_result"
    }
   ],
   "source": [
    "movies_df.shape"
   ]
  },
  {
   "cell_type": "markdown",
   "metadata": {},
   "source": [
    "## People Pre Transformation"
   ]
  },
  {
   "cell_type": "markdown",
   "metadata": {},
   "source": [
    "### Cast"
   ]
  },
  {
   "cell_type": "markdown",
   "metadata": {},
   "source": [
    "To start, we will create a new dataset with all cast members from any of our movies. To do so, we created a helper to get unique values."
   ]
  },
  {
   "cell_type": "code",
   "execution_count": 4,
   "metadata": {},
   "outputs": [],
   "source": [
    "cast_ids = helpers.unique_values(movies_df.cast)"
   ]
  },
  {
   "cell_type": "code",
   "execution_count": 5,
   "metadata": {},
   "outputs": [],
   "source": [
    "cast_id_df = pd.DataFrame(cast_ids, columns=[\"cast_id\"])"
   ]
  },
  {
   "cell_type": "code",
   "execution_count": 6,
   "metadata": {},
   "outputs": [
    {
     "data": {
      "text/plain": [
       "(503733, 1)"
      ]
     },
     "execution_count": 6,
     "metadata": {},
     "output_type": "execute_result"
    }
   ],
   "source": [
    "cast_id_df.shape"
   ]
  },
  {
   "cell_type": "markdown",
   "metadata": {},
   "source": [
    "On the following steps, we will build a dataset indexed by each cast member where the columns are the years, and value is the result of the mean of movies released that year by each cast member."
   ]
  },
  {
   "cell_type": "code",
   "execution_count": 7,
   "metadata": {},
   "outputs": [],
   "source": [
    "cast_id_df.to_csv(\"../data/processed/people_transformation/cast_ids.csv\")"
   ]
  },
  {
   "cell_type": "markdown",
   "metadata": {},
   "source": [
    "We don't have the cast member's information so we created a new python script where we asynchronously request all information - movies, vote average, name - for each one. Our result will be a `JSON` file located at  `../data/processed/json/tmdb_crew_list.json`. \n",
    "\n",
    "``python3 ../source/tmdb_people.py``"
   ]
  },
  {
   "cell_type": "markdown",
   "metadata": {},
   "source": [
    "[...] ~5839.39 seconds later..."
   ]
  },
  {
   "cell_type": "code",
   "execution_count": 8,
   "metadata": {},
   "outputs": [],
   "source": [
    "json_path = \"../data/processed/json/tmdb_crew_list.json\""
   ]
  },
  {
   "cell_type": "code",
   "execution_count": 9,
   "metadata": {},
   "outputs": [],
   "source": [
    "with open(json_path) as json_file:\n",
    "    data = json.load(json_file)"
   ]
  },
  {
   "cell_type": "markdown",
   "metadata": {},
   "source": [
    "We got our data! On this cell we filter out if a value of our `JSON` is a string."
   ]
  },
  {
   "cell_type": "code",
   "execution_count": 10,
   "metadata": {},
   "outputs": [],
   "source": [
    "people_list = list(filter(lambda i: not(type(i) is str), data))"
   ]
  },
  {
   "cell_type": "code",
   "execution_count": 11,
   "metadata": {},
   "outputs": [],
   "source": [
    "people_df = pd.DataFrame(people_list)"
   ]
  },
  {
   "cell_type": "code",
   "execution_count": 12,
   "metadata": {},
   "outputs": [
    {
     "data": {
      "text/html": [
       "<div>\n",
       "<style scoped>\n",
       "    .dataframe tbody tr th:only-of-type {\n",
       "        vertical-align: middle;\n",
       "    }\n",
       "\n",
       "    .dataframe tbody tr th {\n",
       "        vertical-align: top;\n",
       "    }\n",
       "\n",
       "    .dataframe thead th {\n",
       "        text-align: right;\n",
       "    }\n",
       "</style>\n",
       "<table border=\"1\" class=\"dataframe\">\n",
       "  <thead>\n",
       "    <tr style=\"text-align: right;\">\n",
       "      <th></th>\n",
       "      <th>cast</th>\n",
       "      <th>crew</th>\n",
       "      <th>id</th>\n",
       "      <th>status_code</th>\n",
       "      <th>status_message</th>\n",
       "      <th>success</th>\n",
       "    </tr>\n",
       "  </thead>\n",
       "  <tbody>\n",
       "    <tr>\n",
       "      <th>0</th>\n",
       "      <td>[{'character': 'Pre-Teen Gomez', 'credit_id': ...</td>\n",
       "      <td>[]</td>\n",
       "      <td>2436202.0</td>\n",
       "      <td>NaN</td>\n",
       "      <td>NaN</td>\n",
       "      <td>NaN</td>\n",
       "    </tr>\n",
       "    <tr>\n",
       "      <th>1</th>\n",
       "      <td>[{'character': 'Herself', 'credit_id': '55119c...</td>\n",
       "      <td>[]</td>\n",
       "      <td>1445097.0</td>\n",
       "      <td>NaN</td>\n",
       "      <td>NaN</td>\n",
       "      <td>NaN</td>\n",
       "    </tr>\n",
       "    <tr>\n",
       "      <th>2</th>\n",
       "      <td>[{'character': 'self', 'credit_id': '54ecae67c...</td>\n",
       "      <td>[]</td>\n",
       "      <td>1431250.0</td>\n",
       "      <td>NaN</td>\n",
       "      <td>NaN</td>\n",
       "      <td>NaN</td>\n",
       "    </tr>\n",
       "    <tr>\n",
       "      <th>3</th>\n",
       "      <td>[{'character': 'Herself', 'credit_id': '57eba5...</td>\n",
       "      <td>[]</td>\n",
       "      <td>1685918.0</td>\n",
       "      <td>NaN</td>\n",
       "      <td>NaN</td>\n",
       "      <td>NaN</td>\n",
       "    </tr>\n",
       "    <tr>\n",
       "      <th>4</th>\n",
       "      <td>[{'character': 'Réceptionniste à l'hospice', '...</td>\n",
       "      <td>[]</td>\n",
       "      <td>2294782.0</td>\n",
       "      <td>NaN</td>\n",
       "      <td>NaN</td>\n",
       "      <td>NaN</td>\n",
       "    </tr>\n",
       "  </tbody>\n",
       "</table>\n",
       "</div>"
      ],
      "text/plain": [
       "                                                cast crew         id  \\\n",
       "0  [{'character': 'Pre-Teen Gomez', 'credit_id': ...   []  2436202.0   \n",
       "1  [{'character': 'Herself', 'credit_id': '55119c...   []  1445097.0   \n",
       "2  [{'character': 'self', 'credit_id': '54ecae67c...   []  1431250.0   \n",
       "3  [{'character': 'Herself', 'credit_id': '57eba5...   []  1685918.0   \n",
       "4  [{'character': 'Réceptionniste à l'hospice', '...   []  2294782.0   \n",
       "\n",
       "   status_code status_message success  \n",
       "0          NaN            NaN     NaN  \n",
       "1          NaN            NaN     NaN  \n",
       "2          NaN            NaN     NaN  \n",
       "3          NaN            NaN     NaN  \n",
       "4          NaN            NaN     NaN  "
      ]
     },
     "execution_count": 12,
     "metadata": {},
     "output_type": "execute_result"
    }
   ],
   "source": [
    "people_df.head()"
   ]
  },
  {
   "cell_type": "markdown",
   "metadata": {},
   "source": [
    "We set as our id the tmdb one and also create a new column with it."
   ]
  },
  {
   "cell_type": "code",
   "execution_count": 13,
   "metadata": {},
   "outputs": [],
   "source": [
    "people_df.set_index('id', inplace=True)\n",
    "people_df[\"tmdb_id\"] = people_df.index"
   ]
  },
  {
   "cell_type": "markdown",
   "metadata": {},
   "source": [
    "We got some extra columns we won't need. Time to remove it!"
   ]
  },
  {
   "cell_type": "code",
   "execution_count": 14,
   "metadata": {},
   "outputs": [],
   "source": [
    "people_df.drop([\"crew\", \"status_code\", \"status_message\", \"success\"], axis=1, inplace=True)"
   ]
  },
  {
   "cell_type": "code",
   "execution_count": 15,
   "metadata": {},
   "outputs": [
    {
     "data": {
      "text/html": [
       "<div>\n",
       "<style scoped>\n",
       "    .dataframe tbody tr th:only-of-type {\n",
       "        vertical-align: middle;\n",
       "    }\n",
       "\n",
       "    .dataframe tbody tr th {\n",
       "        vertical-align: top;\n",
       "    }\n",
       "\n",
       "    .dataframe thead th {\n",
       "        text-align: right;\n",
       "    }\n",
       "</style>\n",
       "<table border=\"1\" class=\"dataframe\">\n",
       "  <thead>\n",
       "    <tr style=\"text-align: right;\">\n",
       "      <th></th>\n",
       "      <th>cast</th>\n",
       "      <th>tmdb_id</th>\n",
       "    </tr>\n",
       "    <tr>\n",
       "      <th>id</th>\n",
       "      <th></th>\n",
       "      <th></th>\n",
       "    </tr>\n",
       "  </thead>\n",
       "  <tbody>\n",
       "    <tr>\n",
       "      <th>2436202.0</th>\n",
       "      <td>[{'character': 'Pre-Teen Gomez', 'credit_id': ...</td>\n",
       "      <td>2436202.0</td>\n",
       "    </tr>\n",
       "    <tr>\n",
       "      <th>1445097.0</th>\n",
       "      <td>[{'character': 'Herself', 'credit_id': '55119c...</td>\n",
       "      <td>1445097.0</td>\n",
       "    </tr>\n",
       "    <tr>\n",
       "      <th>1431250.0</th>\n",
       "      <td>[{'character': 'self', 'credit_id': '54ecae67c...</td>\n",
       "      <td>1431250.0</td>\n",
       "    </tr>\n",
       "    <tr>\n",
       "      <th>1685918.0</th>\n",
       "      <td>[{'character': 'Herself', 'credit_id': '57eba5...</td>\n",
       "      <td>1685918.0</td>\n",
       "    </tr>\n",
       "    <tr>\n",
       "      <th>2294782.0</th>\n",
       "      <td>[{'character': 'Réceptionniste à l'hospice', '...</td>\n",
       "      <td>2294782.0</td>\n",
       "    </tr>\n",
       "  </tbody>\n",
       "</table>\n",
       "</div>"
      ],
      "text/plain": [
       "                                                        cast    tmdb_id\n",
       "id                                                                     \n",
       "2436202.0  [{'character': 'Pre-Teen Gomez', 'credit_id': ...  2436202.0\n",
       "1445097.0  [{'character': 'Herself', 'credit_id': '55119c...  1445097.0\n",
       "1431250.0  [{'character': 'self', 'credit_id': '54ecae67c...  1431250.0\n",
       "1685918.0  [{'character': 'Herself', 'credit_id': '57eba5...  1685918.0\n",
       "2294782.0  [{'character': 'Réceptionniste à l'hospice', '...  2294782.0"
      ]
     },
     "execution_count": 15,
     "metadata": {},
     "output_type": "execute_result"
    }
   ],
   "source": [
    "people_df.head()"
   ]
  },
  {
   "cell_type": "markdown",
   "metadata": {},
   "source": [
    "We create a new dataframe bringing the cast series as new columns."
   ]
  },
  {
   "cell_type": "code",
   "execution_count": 16,
   "metadata": {},
   "outputs": [],
   "source": [
    "cast_df_series = people_df.cast.apply(pd.Series)"
   ]
  },
  {
   "cell_type": "markdown",
   "metadata": {},
   "source": [
    "Merge `cast_df_series` df (with cast series columns) from previous step into `people_df` dataframe."
   ]
  },
  {
   "cell_type": "code",
   "execution_count": 17,
   "metadata": {},
   "outputs": [],
   "source": [
    "cast_df = people_df.merge(cast_df_series, left_index = True, right_index = True)"
   ]
  },
  {
   "cell_type": "markdown",
   "metadata": {},
   "source": [
    "We here unpivot the DataFrame from wide format to long format."
   ]
  },
  {
   "cell_type": "code",
   "execution_count": 18,
   "metadata": {},
   "outputs": [],
   "source": [
    "cast_df = cast_df.melt(id_vars = ['tmdb_id'], value_name = \"cast\")"
   ]
  },
  {
   "cell_type": "code",
   "execution_count": 19,
   "metadata": {},
   "outputs": [
    {
     "data": {
      "text/html": [
       "<div>\n",
       "<style scoped>\n",
       "    .dataframe tbody tr th:only-of-type {\n",
       "        vertical-align: middle;\n",
       "    }\n",
       "\n",
       "    .dataframe tbody tr th {\n",
       "        vertical-align: top;\n",
       "    }\n",
       "\n",
       "    .dataframe thead th {\n",
       "        text-align: right;\n",
       "    }\n",
       "</style>\n",
       "<table border=\"1\" class=\"dataframe\">\n",
       "  <thead>\n",
       "    <tr style=\"text-align: right;\">\n",
       "      <th></th>\n",
       "      <th>tmdb_id</th>\n",
       "      <th>variable</th>\n",
       "      <th>cast</th>\n",
       "    </tr>\n",
       "  </thead>\n",
       "  <tbody>\n",
       "    <tr>\n",
       "      <th>0</th>\n",
       "      <td>1.0</td>\n",
       "      <td>cast</td>\n",
       "      <td>[{'character': 'Himself', 'credit_id': '52fe45...</td>\n",
       "    </tr>\n",
       "    <tr>\n",
       "      <th>1</th>\n",
       "      <td>2.0</td>\n",
       "      <td>cast</td>\n",
       "      <td>[{'character': 'Luke Skywalker', 'credit_id': ...</td>\n",
       "    </tr>\n",
       "    <tr>\n",
       "      <th>2</th>\n",
       "      <td>3.0</td>\n",
       "      <td>cast</td>\n",
       "      <td>[{'character': 'Rick Deckard', 'credit_id': '5...</td>\n",
       "    </tr>\n",
       "    <tr>\n",
       "      <th>3</th>\n",
       "      <td>4.0</td>\n",
       "      <td>cast</td>\n",
       "      <td>[{'character': 'Herself', 'credit_id': '52fe48...</td>\n",
       "    </tr>\n",
       "    <tr>\n",
       "      <th>4</th>\n",
       "      <td>5.0</td>\n",
       "      <td>cast</td>\n",
       "      <td>[{'character': 'Baron Victor Frankenstein', 'c...</td>\n",
       "    </tr>\n",
       "  </tbody>\n",
       "</table>\n",
       "</div>"
      ],
      "text/plain": [
       "   tmdb_id variable                                               cast\n",
       "0      1.0     cast  [{'character': 'Himself', 'credit_id': '52fe45...\n",
       "1      2.0     cast  [{'character': 'Luke Skywalker', 'credit_id': ...\n",
       "2      3.0     cast  [{'character': 'Rick Deckard', 'credit_id': '5...\n",
       "3      4.0     cast  [{'character': 'Herself', 'credit_id': '52fe48...\n",
       "4      5.0     cast  [{'character': 'Baron Victor Frankenstein', 'c..."
      ]
     },
     "execution_count": 19,
     "metadata": {},
     "output_type": "execute_result"
    }
   ],
   "source": [
    "cast_df.head()"
   ]
  },
  {
   "cell_type": "markdown",
   "metadata": {},
   "source": [
    "As we don't need the variable information, we drop the column from our dataset."
   ]
  },
  {
   "cell_type": "code",
   "execution_count": 20,
   "metadata": {},
   "outputs": [],
   "source": [
    "cast_df = cast_df.drop(\"variable\", axis=1)"
   ]
  },
  {
   "cell_type": "markdown",
   "metadata": {},
   "source": [
    "Unpivotting our DataFrame helped us to visualize there are many NaNs. After we drop them, our df will be easier to interact."
   ]
  },
  {
   "cell_type": "code",
   "execution_count": 21,
   "metadata": {},
   "outputs": [],
   "source": [
    "cast_df = cast_df.dropna()"
   ]
  },
  {
   "cell_type": "markdown",
   "metadata": {},
   "source": [
    "Let's sort by`tmdb_id` and reset our index as it is not longer the correct one."
   ]
  },
  {
   "cell_type": "code",
   "execution_count": 22,
   "metadata": {},
   "outputs": [],
   "source": [
    "cast_df = cast_df.sort_values(by=['tmdb_id'], ascending=True)"
   ]
  },
  {
   "cell_type": "code",
   "execution_count": 23,
   "metadata": {},
   "outputs": [],
   "source": [
    "cast_df.reset_index(inplace=True)"
   ]
  },
  {
   "cell_type": "markdown",
   "metadata": {},
   "source": [
    "We have our DataFrame sorted by`tmdb_id` and each value is a movie the cast member did, but it still has the `JSON` formatting. It's time to create new columns based on `name`, `year` and `vote_average`. Then, we will remove the `cast` column."
   ]
  },
  {
   "cell_type": "code",
   "execution_count": 24,
   "metadata": {},
   "outputs": [],
   "source": [
    "cast_df[\"name\"] = cast_df[\"cast\"].apply(lambda x: x[\"character\"] if \"character\" in x else np.NaN)"
   ]
  },
  {
   "cell_type": "code",
   "execution_count": 25,
   "metadata": {},
   "outputs": [],
   "source": [
    "cast_df[\"release_date\"] = cast_df[\"cast\"].apply(lambda x: x[\"release_date\"] if \"release_date\" in x else np.NaN)\n",
    "cast_df['year'] = pd.DatetimeIndex(cast_df['release_date']).year"
   ]
  },
  {
   "cell_type": "code",
   "execution_count": 26,
   "metadata": {},
   "outputs": [],
   "source": [
    "cast_df[\"vote_average\"] = cast_df[\"cast\"].apply(lambda x: x[\"vote_average\"] if \"vote_average\" in x else np.NaN)"
   ]
  },
  {
   "cell_type": "code",
   "execution_count": 27,
   "metadata": {},
   "outputs": [],
   "source": [
    "cast_df.drop([\"cast\", \"release_date\"], axis=1, inplace=True)"
   ]
  },
  {
   "cell_type": "markdown",
   "metadata": {},
   "source": [
    "Movies which has no vote_average won't tell us what we want so we will filter out our DataFrame to remove these values."
   ]
  },
  {
   "cell_type": "code",
   "execution_count": 28,
   "metadata": {},
   "outputs": [],
   "source": [
    "cast_df = cast_df[cast_df.vote_average != 0]"
   ]
  },
  {
   "cell_type": "markdown",
   "metadata": {},
   "source": [
    "So it's almost done! Now we pivot our DataFrame by index, where our columns are the year of each movie release and the value is all movies the cast member grouped by it's mean."
   ]
  },
  {
   "cell_type": "code",
   "execution_count": 29,
   "metadata": {},
   "outputs": [],
   "source": [
    "cast_df_pivoted = pd.pivot_table(cast_df, values='vote_average', index=['tmdb_id'], columns=['year'], aggfunc=np.mean)"
   ]
  },
  {
   "cell_type": "markdown",
   "metadata": {},
   "source": [
    "We finalize our work here. People Dataset is already built! Please, go to the next notebook called `3.EDA.ipynb` to visualize our dataset."
   ]
  },
  {
   "cell_type": "code",
   "execution_count": 30,
   "metadata": {},
   "outputs": [],
   "source": [
    "cast_df_pivoted.to_csv(\"../data/processed/people_transformation/people_cast_list.csv\")"
   ]
  }
 ],
 "metadata": {
  "kernelspec": {
   "display_name": "Python 3",
   "language": "python",
   "name": "python3"
  },
  "language_info": {
   "codemirror_mode": {
    "name": "ipython",
    "version": 3
   },
   "file_extension": ".py",
   "mimetype": "text/x-python",
   "name": "python",
   "nbconvert_exporter": "python",
   "pygments_lexer": "ipython3",
   "version": "3.7.7"
  },
  "toc": {
   "base_numbering": 1,
   "nav_menu": {},
   "number_sections": true,
   "sideBar": true,
   "skip_h1_title": false,
   "title_cell": "Table of Contents",
   "title_sidebar": "Contents",
   "toc_cell": false,
   "toc_position": {},
   "toc_section_display": true,
   "toc_window_display": false
  }
 },
 "nbformat": 4,
 "nbformat_minor": 2
}
