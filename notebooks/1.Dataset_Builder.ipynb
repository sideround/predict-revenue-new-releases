{
 "cells": [
  {
   "cell_type": "markdown",
   "metadata": {},
   "source": [
    "In our final project we want to predict if a new release is going to succeed and the amount of the potential revenue. We did not discover any dataset which satisfies our standards, so I decided to code my own. Here is the plan: "
   ]
  },
  {
   "cell_type": "markdown",
   "metadata": {},
   "source": [
    "- Get an interface of Imdb dataset: http://www.imdb.com/interfaces\n",
    "- Reduce the dataset to only `Movies` and set a year range from 1980 to now.\n",
    "- Convert `IMDBId` to `TMDBId`. \n",
    "- Use https://www.themoviedb.org/documentation/api to build the final dataset."
   ]
  },
  {
   "cell_type": "markdown",
   "metadata": {},
   "source": [
    "### Imports"
   ]
  },
  {
   "cell_type": "code",
   "execution_count": 1,
   "metadata": {},
   "outputs": [],
   "source": [
    "import pandas as pd\n",
    "import numpy as np\n",
    "import matplotlib.pyplot as plt\n",
    "import seaborn as sns\n",
    "\n",
    "import sys\n",
    "sys.path.append('../source/')\n",
    "\n",
    "import helpers\n",
    "import json "
   ]
  },
  {
   "cell_type": "markdown",
   "metadata": {},
   "source": [
    "### IMDB Dataset"
   ]
  },
  {
   "cell_type": "markdown",
   "metadata": {},
   "source": [
    "We got our interface from all titles available at IMDB. To start with our dataset building, we should get a quick overview and get some useful info."
   ]
  },
  {
   "cell_type": "code",
   "execution_count": 2,
   "metadata": {},
   "outputs": [
    {
     "name": "stderr",
     "output_type": "stream",
     "text": [
      "/usr/local/Cellar/ipython/7.8.0/libexec/lib/python3.7/site-packages/IPython/core/interactiveshell.py:3058: DtypeWarning: Columns (5) have mixed types. Specify dtype option on import or set low_memory=False.\n",
      "  interactivity=interactivity, compiler=compiler, result=result)\n"
     ]
    }
   ],
   "source": [
    "title_basics = pd.read_csv(\"../data/pre-processed/title_basics.tsv\", sep='\\t')"
   ]
  },
  {
   "cell_type": "code",
   "execution_count": 3,
   "metadata": {},
   "outputs": [
    {
     "data": {
      "text/html": [
       "<div>\n",
       "<style scoped>\n",
       "    .dataframe tbody tr th:only-of-type {\n",
       "        vertical-align: middle;\n",
       "    }\n",
       "\n",
       "    .dataframe tbody tr th {\n",
       "        vertical-align: top;\n",
       "    }\n",
       "\n",
       "    .dataframe thead th {\n",
       "        text-align: right;\n",
       "    }\n",
       "</style>\n",
       "<table border=\"1\" class=\"dataframe\">\n",
       "  <thead>\n",
       "    <tr style=\"text-align: right;\">\n",
       "      <th></th>\n",
       "      <th>tconst</th>\n",
       "      <th>titleType</th>\n",
       "      <th>primaryTitle</th>\n",
       "      <th>originalTitle</th>\n",
       "      <th>isAdult</th>\n",
       "      <th>startYear</th>\n",
       "      <th>endYear</th>\n",
       "      <th>runtimeMinutes</th>\n",
       "      <th>genres</th>\n",
       "    </tr>\n",
       "  </thead>\n",
       "  <tbody>\n",
       "    <tr>\n",
       "      <th>0</th>\n",
       "      <td>tt0000001</td>\n",
       "      <td>short</td>\n",
       "      <td>Carmencita</td>\n",
       "      <td>Carmencita</td>\n",
       "      <td>0</td>\n",
       "      <td>1894</td>\n",
       "      <td>\\N</td>\n",
       "      <td>1</td>\n",
       "      <td>Documentary,Short</td>\n",
       "    </tr>\n",
       "    <tr>\n",
       "      <th>1</th>\n",
       "      <td>tt0000001</td>\n",
       "      <td>short</td>\n",
       "      <td>Carmencita</td>\n",
       "      <td>Carmencita</td>\n",
       "      <td>0</td>\n",
       "      <td>1894</td>\n",
       "      <td>\\N</td>\n",
       "      <td>1</td>\n",
       "      <td>Documentary,Short</td>\n",
       "    </tr>\n",
       "    <tr>\n",
       "      <th>2</th>\n",
       "      <td>tt0000002</td>\n",
       "      <td>short</td>\n",
       "      <td>Le clown et ses chiens</td>\n",
       "      <td>Le clown et ses chiens</td>\n",
       "      <td>0</td>\n",
       "      <td>1892</td>\n",
       "      <td>\\N</td>\n",
       "      <td>5</td>\n",
       "      <td>Animation,Short</td>\n",
       "    </tr>\n",
       "    <tr>\n",
       "      <th>3</th>\n",
       "      <td>tt0000002</td>\n",
       "      <td>short</td>\n",
       "      <td>Le clown et ses chiens</td>\n",
       "      <td>Le clown et ses chiens</td>\n",
       "      <td>0</td>\n",
       "      <td>1892</td>\n",
       "      <td>\\N</td>\n",
       "      <td>5</td>\n",
       "      <td>Animation,Short</td>\n",
       "    </tr>\n",
       "    <tr>\n",
       "      <th>4</th>\n",
       "      <td>tt0000003</td>\n",
       "      <td>short</td>\n",
       "      <td>Pauvre Pierrot</td>\n",
       "      <td>Pauvre Pierrot</td>\n",
       "      <td>0</td>\n",
       "      <td>1892</td>\n",
       "      <td>\\N</td>\n",
       "      <td>4</td>\n",
       "      <td>Animation,Comedy,Romance</td>\n",
       "    </tr>\n",
       "  </tbody>\n",
       "</table>\n",
       "</div>"
      ],
      "text/plain": [
       "      tconst titleType            primaryTitle           originalTitle  \\\n",
       "0  tt0000001     short              Carmencita              Carmencita   \n",
       "1  tt0000001     short              Carmencita              Carmencita   \n",
       "2  tt0000002     short  Le clown et ses chiens  Le clown et ses chiens   \n",
       "3  tt0000002     short  Le clown et ses chiens  Le clown et ses chiens   \n",
       "4  tt0000003     short          Pauvre Pierrot          Pauvre Pierrot   \n",
       "\n",
       "   isAdult startYear endYear runtimeMinutes                    genres  \n",
       "0        0      1894      \\N              1         Documentary,Short  \n",
       "1        0      1894      \\N              1         Documentary,Short  \n",
       "2        0      1892      \\N              5           Animation,Short  \n",
       "3        0      1892      \\N              5           Animation,Short  \n",
       "4        0      1892      \\N              4  Animation,Comedy,Romance  "
      ]
     },
     "execution_count": 3,
     "metadata": {},
     "output_type": "execute_result"
    }
   ],
   "source": [
    "title_basics.head()"
   ]
  },
  {
   "cell_type": "code",
   "execution_count": 4,
   "metadata": {},
   "outputs": [
    {
     "data": {
      "text/plain": [
       "(10894425, 9)"
      ]
     },
     "execution_count": 4,
     "metadata": {},
     "output_type": "execute_result"
    }
   ],
   "source": [
    "title_basics.shape"
   ]
  },
  {
   "cell_type": "code",
   "execution_count": 5,
   "metadata": {},
   "outputs": [
    {
     "data": {
      "text/plain": [
       "array(['short', 'movie', 'tvMovie', 'tvSeries', 'tvEpisode', 'tvShort',\n",
       "       'tvMiniSeries', 'tvSpecial', 'video', 'videoGame'], dtype=object)"
      ]
     },
     "execution_count": 5,
     "metadata": {},
     "output_type": "execute_result"
    }
   ],
   "source": [
    "title_basics.titleType.unique()"
   ]
  },
  {
   "cell_type": "markdown",
   "metadata": {},
   "source": [
    "Almost 11 million items! Luckily they are not all movies but shorts, tv shows... Previous getting our tmdb id from the interface, we would need to filter out our dataset to get only movies."
   ]
  },
  {
   "cell_type": "code",
   "execution_count": 6,
   "metadata": {},
   "outputs": [],
   "source": [
    "title_basics = title_basics[title_basics.titleType == \"movie\"] "
   ]
  },
  {
   "cell_type": "code",
   "execution_count": 7,
   "metadata": {},
   "outputs": [
    {
     "data": {
      "text/plain": [
       "(862220, 9)"
      ]
     },
     "execution_count": 7,
     "metadata": {},
     "output_type": "execute_result"
    }
   ],
   "source": [
    "title_basics.shape"
   ]
  },
  {
   "cell_type": "markdown",
   "metadata": {},
   "source": [
    "We reduced a huge amount of data we won't use. We should not only filter by time but also by time frame. Movies from 1940 won't tell us much as the movie industry changed a lot. We will filter and set a year range from 1980 to 2020. To do it, we should first convert our `startYear` column to numeric."
   ]
  },
  {
   "cell_type": "code",
   "execution_count": 8,
   "metadata": {},
   "outputs": [],
   "source": [
    "title_basics['startYear'] = pd.to_numeric(title_basics['startYear'], errors='coerce')"
   ]
  },
  {
   "cell_type": "markdown",
   "metadata": {},
   "source": [
    "As we would need to predict our movies from movies released in the following years, now it's time to split our dataset into two. The first one from 1980 to 2020 (to test our model) and the second one from after 2020 (to predict them)."
   ]
  },
  {
   "cell_type": "code",
   "execution_count": 9,
   "metadata": {},
   "outputs": [],
   "source": [
    "title_basics_after_2020 = title_basics[(title_basics[\"startYear\"] > 2020) & (title_basics[\"startYear\"] <= 2030)]"
   ]
  },
  {
   "cell_type": "code",
   "execution_count": 10,
   "metadata": {},
   "outputs": [],
   "source": [
    "title_basics_before_2020 = title_basics[(title_basics[\"startYear\"] > 1980.0) & (title_basics[\"startYear\"] <= 2020)]"
   ]
  },
  {
   "cell_type": "code",
   "execution_count": 11,
   "metadata": {},
   "outputs": [
    {
     "data": {
      "text/plain": [
       "((2726, 9), (508702, 9))"
      ]
     },
     "execution_count": 11,
     "metadata": {},
     "output_type": "execute_result"
    }
   ],
   "source": [
    "title_basics_after_2020.shape, title_basics_before_2020.shape"
   ]
  },
  {
   "cell_type": "markdown",
   "metadata": {},
   "source": [
    "To summarize, from an IMDB interface with 11 million items, we finally got a final dataset with 508,702 movies with a release date between 1980 and 2020. The next step is to convert our IMDB id to TMDB one, so let's export the two datasets."
   ]
  },
  {
   "cell_type": "code",
   "execution_count": 12,
   "metadata": {},
   "outputs": [],
   "source": [
    "title_basics_before_2020.to_csv(\"../data/processed/dataset_builder/title_basics_before_2020.csv\")"
   ]
  },
  {
   "cell_type": "code",
   "execution_count": 13,
   "metadata": {},
   "outputs": [],
   "source": [
    "title_basics_after_2020.to_csv(\"../data/processed/dataset_builder/title_basics_after_2020.csv\")"
   ]
  },
  {
   "cell_type": "markdown",
   "metadata": {},
   "source": [
    "### TMDB Dataset"
   ]
  },
  {
   "cell_type": "markdown",
   "metadata": {},
   "source": [
    "The IMDB interface was very useful to get a quick interview about the amount of data we are going to use. Sadly it doesn't have as much information as we need to test our model. To solve it, as IMDB does not have an open API, we will convert our IMDB id to TMDB one."
   ]
  },
  {
   "cell_type": "markdown",
   "metadata": {},
   "source": [
    "To do so, we created a python script which uses a pool of threads to execute the requests asynchronously. We first tried to do it synchronously but it took almost 6 hours to complete it. \n",
    "\n",
    "The output will be a `JSON` file located at `../data/processed/json/tmdb_id_list.json` as json file.\n",
    "\n",
    "- `python3 ../source/tmdb_retriever.py`"
   ]
  },
  {
   "cell_type": "markdown",
   "metadata": {},
   "source": [
    "[...] ~3600 seconds later..."
   ]
  },
  {
   "cell_type": "code",
   "execution_count": 14,
   "metadata": {},
   "outputs": [],
   "source": [
    "json_path = \"../data/processed/json/tmdb_id_list.json\""
   ]
  },
  {
   "cell_type": "code",
   "execution_count": 15,
   "metadata": {},
   "outputs": [],
   "source": [
    "with open(json_path) as json_file:\n",
    "    data = json.load(json_file)\n",
    "    json_to_list_function = helpers.convert_output_id(data)\n",
    "    tmdb_ids_df = pd.DataFrame(json_to_list_function, columns=[\"tmdb_id\"])"
   ]
  },
  {
   "cell_type": "code",
   "execution_count": 16,
   "metadata": {},
   "outputs": [
    {
     "data": {
      "text/plain": [
       "(251039, 1)"
      ]
     },
     "execution_count": 16,
     "metadata": {},
     "output_type": "execute_result"
    }
   ],
   "source": [
    "tmdb_ids_df.shape"
   ]
  },
  {
   "cell_type": "markdown",
   "metadata": {},
   "source": [
    "From 508,702 IMDB ids, we reduced the amount to 251,039. There are several reasons:  the id was not found on TMDB, connection error, or an exception occurred."
   ]
  },
  {
   "cell_type": "markdown",
   "metadata": {},
   "source": [
    "Time to export the final result to the processed folder! Reasy to retrieve all data from each id."
   ]
  },
  {
   "cell_type": "code",
   "execution_count": 17,
   "metadata": {},
   "outputs": [],
   "source": [
    "tmdb_ids_df.to_csv(\"../data/processed/dataset_builder/tmdb_ids.csv\")"
   ]
  },
  {
   "cell_type": "markdown",
   "metadata": {},
   "source": [
    "### Movie Dataset"
   ]
  },
  {
   "cell_type": "markdown",
   "metadata": {},
   "source": [
    "Now it is time to retrieve all movie information from our 251,039 ids."
   ]
  },
  {
   "cell_type": "markdown",
   "metadata": {},
   "source": [
    "We created a new python script to request all the information. The output will be located at `../data/processed/json/tmdb_movie_list.json` as `JSON` file.\n",
    "\n",
    "- ``python3 ../source/tmdb_movies.py``"
   ]
  },
  {
   "cell_type": "code",
   "execution_count": 18,
   "metadata": {},
   "outputs": [],
   "source": [
    "movie_json_path = \"../data/processed/json/tmdb_movie_list.json\""
   ]
  },
  {
   "cell_type": "markdown",
   "metadata": {},
   "source": [
    "We created a helper to remove any badly formatted requests."
   ]
  },
  {
   "cell_type": "code",
   "execution_count": 19,
   "metadata": {},
   "outputs": [],
   "source": [
    "movie_json = helpers.get_transformed_json(movie_json_path)"
   ]
  },
  {
   "cell_type": "code",
   "execution_count": 20,
   "metadata": {},
   "outputs": [],
   "source": [
    "movies_df = pd.DataFrame(movie_json)"
   ]
  },
  {
   "cell_type": "code",
   "execution_count": 21,
   "metadata": {},
   "outputs": [
    {
     "data": {
      "text/html": [
       "<div>\n",
       "<style scoped>\n",
       "    .dataframe tbody tr th:only-of-type {\n",
       "        vertical-align: middle;\n",
       "    }\n",
       "\n",
       "    .dataframe tbody tr th {\n",
       "        vertical-align: top;\n",
       "    }\n",
       "\n",
       "    .dataframe thead th {\n",
       "        text-align: right;\n",
       "    }\n",
       "</style>\n",
       "<table border=\"1\" class=\"dataframe\">\n",
       "  <thead>\n",
       "    <tr style=\"text-align: right;\">\n",
       "      <th></th>\n",
       "      <th>adult</th>\n",
       "      <th>backdrop_path</th>\n",
       "      <th>belongs_to_collection</th>\n",
       "      <th>budget</th>\n",
       "      <th>genres</th>\n",
       "      <th>homepage</th>\n",
       "      <th>id</th>\n",
       "      <th>imdb_id</th>\n",
       "      <th>original_language</th>\n",
       "      <th>original_title</th>\n",
       "      <th>...</th>\n",
       "      <th>spoken_languages</th>\n",
       "      <th>status</th>\n",
       "      <th>tagline</th>\n",
       "      <th>title</th>\n",
       "      <th>video</th>\n",
       "      <th>vote_average</th>\n",
       "      <th>vote_count</th>\n",
       "      <th>credits</th>\n",
       "      <th>status_code</th>\n",
       "      <th>status_message</th>\n",
       "    </tr>\n",
       "  </thead>\n",
       "  <tbody>\n",
       "    <tr>\n",
       "      <th>0</th>\n",
       "      <td>False</td>\n",
       "      <td>None</td>\n",
       "      <td>None</td>\n",
       "      <td>0.0</td>\n",
       "      <td>[{'id': 80, 'name': 'Crime'}, {'id': 9648, 'na...</td>\n",
       "      <td></td>\n",
       "      <td>421114.0</td>\n",
       "      <td>tt0080495</td>\n",
       "      <td>es</td>\n",
       "      <td>La capilla ardiente</td>\n",
       "      <td>...</td>\n",
       "      <td>[{'iso_639_1': 'es', 'name': 'Español'}]</td>\n",
       "      <td>Released</td>\n",
       "      <td></td>\n",
       "      <td>La capilla ardiente</td>\n",
       "      <td>False</td>\n",
       "      <td>3.0</td>\n",
       "      <td>3.0</td>\n",
       "      <td>{'cast': [{'cast_id': 0, 'character': 'Ángel',...</td>\n",
       "      <td>NaN</td>\n",
       "      <td>NaN</td>\n",
       "    </tr>\n",
       "    <tr>\n",
       "      <th>1</th>\n",
       "      <td>False</td>\n",
       "      <td>None</td>\n",
       "      <td>None</td>\n",
       "      <td>840000.0</td>\n",
       "      <td>[{'id': 27, 'name': 'Horror'}]</td>\n",
       "      <td></td>\n",
       "      <td>91817.0</td>\n",
       "      <td>tt0082367</td>\n",
       "      <td>en</td>\n",
       "      <td>Fear No Evil</td>\n",
       "      <td>...</td>\n",
       "      <td>[{'iso_639_1': 'en', 'name': 'English'}]</td>\n",
       "      <td>Released</td>\n",
       "      <td>Alexandria High… class of '81 - All the studen...</td>\n",
       "      <td>Fear No Evil</td>\n",
       "      <td>False</td>\n",
       "      <td>4.4</td>\n",
       "      <td>14.0</td>\n",
       "      <td>{'cast': [{'cast_id': 2, 'character': 'Andrew ...</td>\n",
       "      <td>NaN</td>\n",
       "      <td>NaN</td>\n",
       "    </tr>\n",
       "    <tr>\n",
       "      <th>2</th>\n",
       "      <td>False</td>\n",
       "      <td>None</td>\n",
       "      <td>{'id': 184977, 'name': 'Shaolin Temple Collect...</td>\n",
       "      <td>0.0</td>\n",
       "      <td>[{'id': 28, 'name': 'Action'}]</td>\n",
       "      <td></td>\n",
       "      <td>10275.0</td>\n",
       "      <td>tt0079891</td>\n",
       "      <td>cn</td>\n",
       "      <td>少林寺</td>\n",
       "      <td>...</td>\n",
       "      <td>[{'iso_639_1': 'cn', 'name': '广州话 / 廣州話'}, {'i...</td>\n",
       "      <td>Released</td>\n",
       "      <td></td>\n",
       "      <td>The Shaolin Temple</td>\n",
       "      <td>False</td>\n",
       "      <td>7.1</td>\n",
       "      <td>53.0</td>\n",
       "      <td>{'cast': [{'cast_id': 7, 'character': 'Gong Yu...</td>\n",
       "      <td>NaN</td>\n",
       "      <td>NaN</td>\n",
       "    </tr>\n",
       "    <tr>\n",
       "      <th>3</th>\n",
       "      <td>False</td>\n",
       "      <td>None</td>\n",
       "      <td>None</td>\n",
       "      <td>0.0</td>\n",
       "      <td>[]</td>\n",
       "      <td></td>\n",
       "      <td>270810.0</td>\n",
       "      <td>tt0080311</td>\n",
       "      <td>en</td>\n",
       "      <td>...Maybe This Time</td>\n",
       "      <td>...</td>\n",
       "      <td>[]</td>\n",
       "      <td>Released</td>\n",
       "      <td></td>\n",
       "      <td>...Maybe This Time</td>\n",
       "      <td>False</td>\n",
       "      <td>0.0</td>\n",
       "      <td>0.0</td>\n",
       "      <td>{'cast': [{'cast_id': 0, 'character': 'Fran', ...</td>\n",
       "      <td>NaN</td>\n",
       "      <td>NaN</td>\n",
       "    </tr>\n",
       "    <tr>\n",
       "      <th>4</th>\n",
       "      <td>False</td>\n",
       "      <td>/fpB6mNdhTG8vX3vjPLHGO6lKbiF.jpg</td>\n",
       "      <td>None</td>\n",
       "      <td>0.0</td>\n",
       "      <td>[{'id': 18, 'name': 'Drama'}]</td>\n",
       "      <td></td>\n",
       "      <td>301845.0</td>\n",
       "      <td>tt0082047</td>\n",
       "      <td>es</td>\n",
       "      <td>Barcelona sur</td>\n",
       "      <td>...</td>\n",
       "      <td>[{'iso_639_1': 'es', 'name': 'Español'}]</td>\n",
       "      <td>Released</td>\n",
       "      <td></td>\n",
       "      <td>Barcelona sur</td>\n",
       "      <td>False</td>\n",
       "      <td>5.0</td>\n",
       "      <td>2.0</td>\n",
       "      <td>{'cast': [{'cast_id': 0, 'character': 'Gumer',...</td>\n",
       "      <td>NaN</td>\n",
       "      <td>NaN</td>\n",
       "    </tr>\n",
       "  </tbody>\n",
       "</table>\n",
       "<p>5 rows × 28 columns</p>\n",
       "</div>"
      ],
      "text/plain": [
       "   adult                     backdrop_path  \\\n",
       "0  False                              None   \n",
       "1  False                              None   \n",
       "2  False                              None   \n",
       "3  False                              None   \n",
       "4  False  /fpB6mNdhTG8vX3vjPLHGO6lKbiF.jpg   \n",
       "\n",
       "                               belongs_to_collection    budget  \\\n",
       "0                                               None       0.0   \n",
       "1                                               None  840000.0   \n",
       "2  {'id': 184977, 'name': 'Shaolin Temple Collect...       0.0   \n",
       "3                                               None       0.0   \n",
       "4                                               None       0.0   \n",
       "\n",
       "                                              genres homepage        id  \\\n",
       "0  [{'id': 80, 'name': 'Crime'}, {'id': 9648, 'na...           421114.0   \n",
       "1                     [{'id': 27, 'name': 'Horror'}]            91817.0   \n",
       "2                     [{'id': 28, 'name': 'Action'}]            10275.0   \n",
       "3                                                 []           270810.0   \n",
       "4                      [{'id': 18, 'name': 'Drama'}]           301845.0   \n",
       "\n",
       "     imdb_id original_language       original_title  ...  \\\n",
       "0  tt0080495                es  La capilla ardiente  ...   \n",
       "1  tt0082367                en         Fear No Evil  ...   \n",
       "2  tt0079891                cn                  少林寺  ...   \n",
       "3  tt0080311                en   ...Maybe This Time  ...   \n",
       "4  tt0082047                es        Barcelona sur  ...   \n",
       "\n",
       "                                    spoken_languages    status  \\\n",
       "0           [{'iso_639_1': 'es', 'name': 'Español'}]  Released   \n",
       "1           [{'iso_639_1': 'en', 'name': 'English'}]  Released   \n",
       "2  [{'iso_639_1': 'cn', 'name': '广州话 / 廣州話'}, {'i...  Released   \n",
       "3                                                 []  Released   \n",
       "4           [{'iso_639_1': 'es', 'name': 'Español'}]  Released   \n",
       "\n",
       "                                             tagline                title  \\\n",
       "0                                                     La capilla ardiente   \n",
       "1  Alexandria High… class of '81 - All the studen...         Fear No Evil   \n",
       "2                                                      The Shaolin Temple   \n",
       "3                                                      ...Maybe This Time   \n",
       "4                                                           Barcelona sur   \n",
       "\n",
       "   video vote_average  vote_count  \\\n",
       "0  False          3.0         3.0   \n",
       "1  False          4.4        14.0   \n",
       "2  False          7.1        53.0   \n",
       "3  False          0.0         0.0   \n",
       "4  False          5.0         2.0   \n",
       "\n",
       "                                             credits status_code  \\\n",
       "0  {'cast': [{'cast_id': 0, 'character': 'Ángel',...         NaN   \n",
       "1  {'cast': [{'cast_id': 2, 'character': 'Andrew ...         NaN   \n",
       "2  {'cast': [{'cast_id': 7, 'character': 'Gong Yu...         NaN   \n",
       "3  {'cast': [{'cast_id': 0, 'character': 'Fran', ...         NaN   \n",
       "4  {'cast': [{'cast_id': 0, 'character': 'Gumer',...         NaN   \n",
       "\n",
       "  status_message  \n",
       "0            NaN  \n",
       "1            NaN  \n",
       "2            NaN  \n",
       "3            NaN  \n",
       "4            NaN  \n",
       "\n",
       "[5 rows x 28 columns]"
      ]
     },
     "execution_count": 21,
     "metadata": {},
     "output_type": "execute_result"
    }
   ],
   "source": [
    "movies_df.head()"
   ]
  },
  {
   "cell_type": "code",
   "execution_count": 22,
   "metadata": {},
   "outputs": [
    {
     "data": {
      "text/plain": [
       "250951"
      ]
     },
     "execution_count": 22,
     "metadata": {},
     "output_type": "execute_result"
    }
   ],
   "source": [
    "len(movies_df)"
   ]
  },
  {
   "cell_type": "markdown",
   "metadata": {},
   "source": [
    "From 251,039 ids, we kept almost the same length! Let's congratulate our job here.\n",
    "\n",
    "We finalize our work here. Dataset is already built! Please, go to the next notebook called `2.1.Pre_transformation.ipynb` to pre-transform our dataset."
   ]
  },
  {
   "cell_type": "code",
   "execution_count": 23,
   "metadata": {},
   "outputs": [],
   "source": [
    "movies_df.to_csv(\"../data/processed/dataset_builder/movies_list.csv\", sep=',', encoding='utf-8')"
   ]
  }
 ],
 "metadata": {
  "kernelspec": {
   "display_name": "Python 3",
   "language": "python",
   "name": "python3"
  },
  "language_info": {
   "codemirror_mode": {
    "name": "ipython",
    "version": 3
   },
   "file_extension": ".py",
   "mimetype": "text/x-python",
   "name": "python",
   "nbconvert_exporter": "python",
   "pygments_lexer": "ipython3",
   "version": "3.7.7"
  },
  "toc": {
   "base_numbering": 1,
   "nav_menu": {},
   "number_sections": true,
   "sideBar": true,
   "skip_h1_title": false,
   "title_cell": "Table of Contents",
   "title_sidebar": "Contents",
   "toc_cell": false,
   "toc_position": {},
   "toc_section_display": true,
   "toc_window_display": true
  }
 },
 "nbformat": 4,
 "nbformat_minor": 2
}
