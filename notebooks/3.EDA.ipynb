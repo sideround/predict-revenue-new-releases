{
 "cells": [
  {
   "cell_type": "markdown",
   "metadata": {},
   "source": [
    "After building and pre-transforming our dataset, in this notebook, we will explore and visualize our values to identify outliers or any transformation required to be able to model it afterward."
   ]
  },
  {
   "cell_type": "markdown",
   "metadata": {},
   "source": [
    "## Imports"
   ]
  },
  {
   "cell_type": "code",
   "execution_count": 31,
   "metadata": {},
   "outputs": [],
   "source": [
    "import pandas as pd\n",
    "import numpy as np\n",
    "import matplotlib.pyplot as plt\n",
    "import seaborn as sns"
   ]
  },
  {
   "cell_type": "code",
   "execution_count": 32,
   "metadata": {},
   "outputs": [],
   "source": [
    "movies_df = pd.read_csv(\"../data/processed/transformation/movies_transformed_list.csv\", index_col=0)"
   ]
  },
  {
   "cell_type": "markdown",
   "metadata": {},
   "source": [
    "## EDA"
   ]
  },
  {
   "cell_type": "markdown",
   "metadata": {},
   "source": [
    "### Exploratory"
   ]
  },
  {
   "cell_type": "markdown",
   "metadata": {},
   "source": [
    "Let's start exploring our final dataset!"
   ]
  },
  {
   "cell_type": "code",
   "execution_count": 33,
   "metadata": {},
   "outputs": [
    {
     "data": {
      "text/html": [
       "<div>\n",
       "<style scoped>\n",
       "    .dataframe tbody tr th:only-of-type {\n",
       "        vertical-align: middle;\n",
       "    }\n",
       "\n",
       "    .dataframe tbody tr th {\n",
       "        vertical-align: top;\n",
       "    }\n",
       "\n",
       "    .dataframe thead th {\n",
       "        text-align: right;\n",
       "    }\n",
       "</style>\n",
       "<table border=\"1\" class=\"dataframe\">\n",
       "  <thead>\n",
       "    <tr style=\"text-align: right;\">\n",
       "      <th></th>\n",
       "      <th>index</th>\n",
       "      <th>adult</th>\n",
       "      <th>backdrop_path</th>\n",
       "      <th>belongs_to_collection</th>\n",
       "      <th>budget</th>\n",
       "      <th>genres</th>\n",
       "      <th>homepage</th>\n",
       "      <th>id</th>\n",
       "      <th>imdb_id</th>\n",
       "      <th>original_language</th>\n",
       "      <th>...</th>\n",
       "      <th>status</th>\n",
       "      <th>tagline</th>\n",
       "      <th>title</th>\n",
       "      <th>video</th>\n",
       "      <th>vote_average</th>\n",
       "      <th>vote_count</th>\n",
       "      <th>status_code</th>\n",
       "      <th>status_message</th>\n",
       "      <th>cast</th>\n",
       "      <th>crew</th>\n",
       "    </tr>\n",
       "  </thead>\n",
       "  <tbody>\n",
       "    <tr>\n",
       "      <th>0</th>\n",
       "      <td>0</td>\n",
       "      <td>False</td>\n",
       "      <td>NaN</td>\n",
       "      <td>NaN</td>\n",
       "      <td>0.0</td>\n",
       "      <td>['Crime', 'Mystery', 'Drama', 'Thriller', 'Hor...</td>\n",
       "      <td>NaN</td>\n",
       "      <td>421114.0</td>\n",
       "      <td>tt0080495</td>\n",
       "      <td>es</td>\n",
       "      <td>...</td>\n",
       "      <td>Released</td>\n",
       "      <td>NaN</td>\n",
       "      <td>La capilla ardiente</td>\n",
       "      <td>False</td>\n",
       "      <td>3.0</td>\n",
       "      <td>3.0</td>\n",
       "      <td>NaN</td>\n",
       "      <td>NaN</td>\n",
       "      <td>['266603', '19447', '1178853', '1686031', '148...</td>\n",
       "      <td>['30823', '50542', '100897', '100897', '1489713']</td>\n",
       "    </tr>\n",
       "    <tr>\n",
       "      <th>1</th>\n",
       "      <td>1</td>\n",
       "      <td>False</td>\n",
       "      <td>NaN</td>\n",
       "      <td>NaN</td>\n",
       "      <td>840000.0</td>\n",
       "      <td>['Horror']</td>\n",
       "      <td>NaN</td>\n",
       "      <td>91817.0</td>\n",
       "      <td>tt0082367</td>\n",
       "      <td>en</td>\n",
       "      <td>...</td>\n",
       "      <td>Released</td>\n",
       "      <td>Alexandria High… class of '81 - All the studen...</td>\n",
       "      <td>Fear No Evil</td>\n",
       "      <td>False</td>\n",
       "      <td>4.4</td>\n",
       "      <td>14.0</td>\n",
       "      <td>NaN</td>\n",
       "      <td>NaN</td>\n",
       "      <td>['158489', '1219410', '995591', '104060', '157...</td>\n",
       "      <td>['11470', '19172', '106667', '137193', '583023...</td>\n",
       "    </tr>\n",
       "    <tr>\n",
       "      <th>2</th>\n",
       "      <td>2</td>\n",
       "      <td>False</td>\n",
       "      <td>NaN</td>\n",
       "      <td>{'id': 184977, 'name': 'Shaolin Temple Collect...</td>\n",
       "      <td>0.0</td>\n",
       "      <td>['Action']</td>\n",
       "      <td>NaN</td>\n",
       "      <td>10275.0</td>\n",
       "      <td>tt0079891</td>\n",
       "      <td>cn</td>\n",
       "      <td>...</td>\n",
       "      <td>Released</td>\n",
       "      <td>NaN</td>\n",
       "      <td>The Shaolin Temple</td>\n",
       "      <td>False</td>\n",
       "      <td>7.1</td>\n",
       "      <td>53.0</td>\n",
       "      <td>NaN</td>\n",
       "      <td>NaN</td>\n",
       "      <td>['1336', '1059241', '64707', '1342843', '13428...</td>\n",
       "      <td>['64690', '64688', '64687', '64689', '64692', ...</td>\n",
       "    </tr>\n",
       "    <tr>\n",
       "      <th>3</th>\n",
       "      <td>3</td>\n",
       "      <td>False</td>\n",
       "      <td>NaN</td>\n",
       "      <td>NaN</td>\n",
       "      <td>0.0</td>\n",
       "      <td>[]</td>\n",
       "      <td>NaN</td>\n",
       "      <td>270810.0</td>\n",
       "      <td>tt0080311</td>\n",
       "      <td>en</td>\n",
       "      <td>...</td>\n",
       "      <td>Released</td>\n",
       "      <td>NaN</td>\n",
       "      <td>...Maybe This Time</td>\n",
       "      <td>False</td>\n",
       "      <td>0.0</td>\n",
       "      <td>0.0</td>\n",
       "      <td>NaN</td>\n",
       "      <td>NaN</td>\n",
       "      <td>['58063', '23', '1321846', '1203483', '94807',...</td>\n",
       "      <td>['97327', '166750', '1311627']</td>\n",
       "    </tr>\n",
       "    <tr>\n",
       "      <th>4</th>\n",
       "      <td>4</td>\n",
       "      <td>False</td>\n",
       "      <td>/fpB6mNdhTG8vX3vjPLHGO6lKbiF.jpg</td>\n",
       "      <td>NaN</td>\n",
       "      <td>0.0</td>\n",
       "      <td>['Drama']</td>\n",
       "      <td>NaN</td>\n",
       "      <td>301845.0</td>\n",
       "      <td>tt0082047</td>\n",
       "      <td>es</td>\n",
       "      <td>...</td>\n",
       "      <td>Released</td>\n",
       "      <td>NaN</td>\n",
       "      <td>Barcelona sur</td>\n",
       "      <td>False</td>\n",
       "      <td>5.0</td>\n",
       "      <td>2.0</td>\n",
       "      <td>NaN</td>\n",
       "      <td>NaN</td>\n",
       "      <td>['1062327', '974896', '1383246', '144268', '13...</td>\n",
       "      <td>['37540', '542246', '1057601', '1057601', '108...</td>\n",
       "    </tr>\n",
       "  </tbody>\n",
       "</table>\n",
       "<p>5 rows × 30 columns</p>\n",
       "</div>"
      ],
      "text/plain": [
       "  index  adult                     backdrop_path  \\\n",
       "0     0  False                               NaN   \n",
       "1     1  False                               NaN   \n",
       "2     2  False                               NaN   \n",
       "3     3  False                               NaN   \n",
       "4     4  False  /fpB6mNdhTG8vX3vjPLHGO6lKbiF.jpg   \n",
       "\n",
       "                               belongs_to_collection    budget  \\\n",
       "0                                                NaN       0.0   \n",
       "1                                                NaN  840000.0   \n",
       "2  {'id': 184977, 'name': 'Shaolin Temple Collect...       0.0   \n",
       "3                                                NaN       0.0   \n",
       "4                                                NaN       0.0   \n",
       "\n",
       "                                              genres homepage        id  \\\n",
       "0  ['Crime', 'Mystery', 'Drama', 'Thriller', 'Hor...      NaN  421114.0   \n",
       "1                                         ['Horror']      NaN   91817.0   \n",
       "2                                         ['Action']      NaN   10275.0   \n",
       "3                                                 []      NaN  270810.0   \n",
       "4                                          ['Drama']      NaN  301845.0   \n",
       "\n",
       "     imdb_id original_language  ...    status  \\\n",
       "0  tt0080495                es  ...  Released   \n",
       "1  tt0082367                en  ...  Released   \n",
       "2  tt0079891                cn  ...  Released   \n",
       "3  tt0080311                en  ...  Released   \n",
       "4  tt0082047                es  ...  Released   \n",
       "\n",
       "                                             tagline                title  \\\n",
       "0                                                NaN  La capilla ardiente   \n",
       "1  Alexandria High… class of '81 - All the studen...         Fear No Evil   \n",
       "2                                                NaN   The Shaolin Temple   \n",
       "3                                                NaN   ...Maybe This Time   \n",
       "4                                                NaN        Barcelona sur   \n",
       "\n",
       "   video vote_average vote_count status_code  status_message  \\\n",
       "0  False          3.0        3.0         NaN             NaN   \n",
       "1  False          4.4       14.0         NaN             NaN   \n",
       "2  False          7.1       53.0         NaN             NaN   \n",
       "3  False          0.0        0.0         NaN             NaN   \n",
       "4  False          5.0        2.0         NaN             NaN   \n",
       "\n",
       "                                                cast  \\\n",
       "0  ['266603', '19447', '1178853', '1686031', '148...   \n",
       "1  ['158489', '1219410', '995591', '104060', '157...   \n",
       "2  ['1336', '1059241', '64707', '1342843', '13428...   \n",
       "3  ['58063', '23', '1321846', '1203483', '94807',...   \n",
       "4  ['1062327', '974896', '1383246', '144268', '13...   \n",
       "\n",
       "                                                crew  \n",
       "0  ['30823', '50542', '100897', '100897', '1489713']  \n",
       "1  ['11470', '19172', '106667', '137193', '583023...  \n",
       "2  ['64690', '64688', '64687', '64689', '64692', ...  \n",
       "3                     ['97327', '166750', '1311627']  \n",
       "4  ['37540', '542246', '1057601', '1057601', '108...  \n",
       "\n",
       "[5 rows x 30 columns]"
      ]
     },
     "execution_count": 33,
     "metadata": {},
     "output_type": "execute_result"
    }
   ],
   "source": [
    "movies_df.head()"
   ]
  },
  {
   "cell_type": "code",
   "execution_count": 34,
   "metadata": {},
   "outputs": [
    {
     "name": "stdout",
     "output_type": "stream",
     "text": [
      "<class 'pandas.core.frame.DataFrame'>\n",
      "Int64Index: 251024 entries, 0 to 251023\n",
      "Data columns (total 30 columns):\n",
      "index                    251024 non-null object\n",
      "adult                    250953 non-null object\n",
      "backdrop_path            78574 non-null object\n",
      "belongs_to_collection    10036 non-null object\n",
      "budget                   250953 non-null object\n",
      "genres                   251024 non-null object\n",
      "homepage                 41136 non-null object\n",
      "id                       250949 non-null float64\n",
      "imdb_id                  250953 non-null object\n",
      "original_language        250953 non-null object\n",
      "original_title           250924 non-null object\n",
      "overview                 228541 non-null object\n",
      "popularity               250892 non-null object\n",
      "poster_path              167245 non-null object\n",
      "production_companies     251024 non-null object\n",
      "production_countries     251024 non-null object\n",
      "release_date             239266 non-null object\n",
      "revenue                  250858 non-null float64\n",
      "runtime                  231673 non-null float64\n",
      "spoken_languages         251024 non-null object\n",
      "status                   250858 non-null object\n",
      "tagline                  57491 non-null object\n",
      "title                    250858 non-null object\n",
      "video                    250858 non-null object\n",
      "vote_average             250858 non-null float64\n",
      "vote_count               250858 non-null float64\n",
      "status_code              32 non-null float64\n",
      "status_message           32 non-null object\n",
      "cast                     251024 non-null object\n",
      "crew                     251024 non-null object\n",
      "dtypes: float64(6), object(24)\n",
      "memory usage: 59.4+ MB\n"
     ]
    }
   ],
   "source": [
    "movies_df.info()"
   ]
  },
  {
   "cell_type": "code",
   "execution_count": 35,
   "metadata": {},
   "outputs": [
    {
     "data": {
      "text/html": [
       "<div>\n",
       "<style scoped>\n",
       "    .dataframe tbody tr th:only-of-type {\n",
       "        vertical-align: middle;\n",
       "    }\n",
       "\n",
       "    .dataframe tbody tr th {\n",
       "        vertical-align: top;\n",
       "    }\n",
       "\n",
       "    .dataframe thead th {\n",
       "        text-align: right;\n",
       "    }\n",
       "</style>\n",
       "<table border=\"1\" class=\"dataframe\">\n",
       "  <thead>\n",
       "    <tr style=\"text-align: right;\">\n",
       "      <th></th>\n",
       "      <th>id</th>\n",
       "      <th>revenue</th>\n",
       "      <th>runtime</th>\n",
       "      <th>vote_average</th>\n",
       "      <th>vote_count</th>\n",
       "      <th>status_code</th>\n",
       "    </tr>\n",
       "  </thead>\n",
       "  <tbody>\n",
       "    <tr>\n",
       "      <th>count</th>\n",
       "      <td>250949.000000</td>\n",
       "      <td>2.508580e+05</td>\n",
       "      <td>231673.000000</td>\n",
       "      <td>250858.000000</td>\n",
       "      <td>250858.000000</td>\n",
       "      <td>32.0</td>\n",
       "    </tr>\n",
       "    <tr>\n",
       "      <th>mean</th>\n",
       "      <td>318163.369067</td>\n",
       "      <td>3.899136e+06</td>\n",
       "      <td>86.512658</td>\n",
       "      <td>3.629380</td>\n",
       "      <td>75.315398</td>\n",
       "      <td>34.0</td>\n",
       "    </tr>\n",
       "    <tr>\n",
       "      <th>std</th>\n",
       "      <td>204945.497325</td>\n",
       "      <td>4.071548e+07</td>\n",
       "      <td>181.943099</td>\n",
       "      <td>3.156725</td>\n",
       "      <td>598.579435</td>\n",
       "      <td>0.0</td>\n",
       "    </tr>\n",
       "    <tr>\n",
       "      <th>min</th>\n",
       "      <td>0.000000</td>\n",
       "      <td>0.000000e+00</td>\n",
       "      <td>0.000000</td>\n",
       "      <td>0.000000</td>\n",
       "      <td>0.000000</td>\n",
       "      <td>34.0</td>\n",
       "    </tr>\n",
       "    <tr>\n",
       "      <th>25%</th>\n",
       "      <td>122320.000000</td>\n",
       "      <td>0.000000e+00</td>\n",
       "      <td>78.000000</td>\n",
       "      <td>0.000000</td>\n",
       "      <td>0.000000</td>\n",
       "      <td>34.0</td>\n",
       "    </tr>\n",
       "    <tr>\n",
       "      <th>50%</th>\n",
       "      <td>318430.000000</td>\n",
       "      <td>0.000000e+00</td>\n",
       "      <td>90.000000</td>\n",
       "      <td>4.700000</td>\n",
       "      <td>1.000000</td>\n",
       "      <td>34.0</td>\n",
       "    </tr>\n",
       "    <tr>\n",
       "      <th>75%</th>\n",
       "      <td>488602.000000</td>\n",
       "      <td>0.000000e+00</td>\n",
       "      <td>103.000000</td>\n",
       "      <td>6.300000</td>\n",
       "      <td>6.000000</td>\n",
       "      <td>34.0</td>\n",
       "    </tr>\n",
       "    <tr>\n",
       "      <th>max</th>\n",
       "      <td>710872.000000</td>\n",
       "      <td>2.797801e+09</td>\n",
       "      <td>51420.000000</td>\n",
       "      <td>10.000000</td>\n",
       "      <td>25929.000000</td>\n",
       "      <td>34.0</td>\n",
       "    </tr>\n",
       "  </tbody>\n",
       "</table>\n",
       "</div>"
      ],
      "text/plain": [
       "                  id       revenue        runtime   vote_average  \\\n",
       "count  250949.000000  2.508580e+05  231673.000000  250858.000000   \n",
       "mean   318163.369067  3.899136e+06      86.512658       3.629380   \n",
       "std    204945.497325  4.071548e+07     181.943099       3.156725   \n",
       "min         0.000000  0.000000e+00       0.000000       0.000000   \n",
       "25%    122320.000000  0.000000e+00      78.000000       0.000000   \n",
       "50%    318430.000000  0.000000e+00      90.000000       4.700000   \n",
       "75%    488602.000000  0.000000e+00     103.000000       6.300000   \n",
       "max    710872.000000  2.797801e+09   51420.000000      10.000000   \n",
       "\n",
       "          vote_count  status_code  \n",
       "count  250858.000000         32.0  \n",
       "mean       75.315398         34.0  \n",
       "std       598.579435          0.0  \n",
       "min         0.000000         34.0  \n",
       "25%         0.000000         34.0  \n",
       "50%         1.000000         34.0  \n",
       "75%         6.000000         34.0  \n",
       "max     25929.000000         34.0  "
      ]
     },
     "execution_count": 35,
     "metadata": {},
     "output_type": "execute_result"
    }
   ],
   "source": [
    "movies_df.describe()"
   ]
  },
  {
   "cell_type": "markdown",
   "metadata": {},
   "source": [
    "We discovered we got many categorical columns we won't use. Time to remove them!"
   ]
  },
  {
   "cell_type": "code",
   "execution_count": 36,
   "metadata": {},
   "outputs": [],
   "source": [
    "columns_to_remove = [\"backdrop_path\", \"belongs_to_collection\", \"homepage\", \"index\", \"imdb_id\", \"id\", \"poster_path\", \"tagline\", \"status_code\", \"status_message\"]"
   ]
  },
  {
   "cell_type": "code",
   "execution_count": 37,
   "metadata": {},
   "outputs": [],
   "source": [
    "movies_df.drop(columns_to_remove, axis=1, inplace=True)"
   ]
  },
  {
   "cell_type": "markdown",
   "metadata": {},
   "source": [
    "#### Numerical columns"
   ]
  },
  {
   "cell_type": "markdown",
   "metadata": {},
   "source": [
    "Some columns actually are numeric but with object format. We convert them to numeric here."
   ]
  },
  {
   "cell_type": "code",
   "execution_count": 8,
   "metadata": {},
   "outputs": [],
   "source": [
    "columns_to_numeric = [\"budget\", \"popularity\", \"popularity\"]\n",
    "\n",
    "for column in columns_to_numeric:\n",
    "    pd.to_numeric(movies_df.budget, errors='coerce')"
   ]
  },
  {
   "cell_type": "markdown",
   "metadata": {},
   "source": [
    "#### Boolean columns"
   ]
  },
  {
   "cell_type": "markdown",
   "metadata": {},
   "source": [
    "Some columns actually are boolean but with object format. We convert them to boolean here."
   ]
  },
  {
   "cell_type": "code",
   "execution_count": 38,
   "metadata": {},
   "outputs": [],
   "source": [
    "columns_to_bool = [\"adult\", \"video\"]\n",
    "\n",
    "for column in columns_to_bool:\n",
    "    movies_df[column] = movies_df[column].apply(lambda x: True if x == \"True\" else False)"
   ]
  },
  {
   "cell_type": "code",
   "execution_count": 39,
   "metadata": {},
   "outputs": [
    {
     "name": "stdout",
     "output_type": "stream",
     "text": [
      "<class 'pandas.core.frame.DataFrame'>\n",
      "Int64Index: 251024 entries, 0 to 251023\n",
      "Data columns (total 20 columns):\n",
      "adult                   251024 non-null bool\n",
      "budget                  250953 non-null object\n",
      "genres                  251024 non-null object\n",
      "original_language       250953 non-null object\n",
      "original_title          250924 non-null object\n",
      "overview                228541 non-null object\n",
      "popularity              250892 non-null object\n",
      "production_companies    251024 non-null object\n",
      "production_countries    251024 non-null object\n",
      "release_date            239266 non-null object\n",
      "revenue                 250858 non-null float64\n",
      "runtime                 231673 non-null float64\n",
      "spoken_languages        251024 non-null object\n",
      "status                  250858 non-null object\n",
      "title                   250858 non-null object\n",
      "video                   251024 non-null bool\n",
      "vote_average            250858 non-null float64\n",
      "vote_count              250858 non-null float64\n",
      "cast                    251024 non-null object\n",
      "crew                    251024 non-null object\n",
      "dtypes: bool(2), float64(4), object(14)\n",
      "memory usage: 36.9+ MB\n"
     ]
    }
   ],
   "source": [
    "movies_df.info()"
   ]
  },
  {
   "cell_type": "markdown",
   "metadata": {},
   "source": [
    "#### NaN Detection"
   ]
  },
  {
   "cell_type": "markdown",
   "metadata": {},
   "source": [
    "To better visualize our NaNs we should convert our empty Arrays to NaNs, if not we will get some surprises later..."
   ]
  },
  {
   "cell_type": "code",
   "execution_count": 40,
   "metadata": {},
   "outputs": [],
   "source": [
    "movies_df = movies_df.replace('[]', np.NaN)"
   ]
  },
  {
   "cell_type": "code",
   "execution_count": 41,
   "metadata": {},
   "outputs": [
    {
     "data": {
      "text/plain": [
       "(251024, 20)"
      ]
     },
     "execution_count": 41,
     "metadata": {},
     "output_type": "execute_result"
    }
   ],
   "source": [
    "movies_df.shape"
   ]
  },
  {
   "cell_type": "code",
   "execution_count": 42,
   "metadata": {},
   "outputs": [
    {
     "name": "stdout",
     "output_type": "stream",
     "text": [
      "Percentage of NaNs: \n",
      "adult                    0.000000\n",
      "budget                   0.034658\n",
      "genres                  21.350548\n",
      "original_language        0.028284\n",
      "original_title           0.039837\n",
      "overview                 8.956514\n",
      "popularity               0.052585\n",
      "production_companies    48.610093\n",
      "production_countries    31.988973\n",
      "release_date             4.684014\n",
      "revenue                  0.066129\n",
      "runtime                  7.708825\n",
      "spoken_languages        24.824320\n",
      "status                   0.066129\n",
      "title                    0.066129\n",
      "video                    0.000000\n",
      "vote_average             0.066129\n",
      "vote_count               0.066129\n",
      "cast                    18.905364\n",
      "crew                     8.324702\n",
      "dtype: float64\n"
     ]
    }
   ],
   "source": [
    "print(f\"Percentage of NaNs: \\n{(movies_df.isna().sum() / len(movies_df)) * 100}\")"
   ]
  },
  {
   "cell_type": "markdown",
   "metadata": {},
   "source": [
    "Big numbers 😱. Let's go case by case."
   ]
  },
  {
   "cell_type": "markdown",
   "metadata": {},
   "source": [
    "- `Genres`. Genres are a very important feature for us. In this case, we will **drop rows** where genres are missing.\n",
    "- `Overview`. The Overview will be removed as data here is not needed at all. \n",
    "- `Production Companies`. Almost half of our dataset. As it's not as important as genres, we will **remove this column**.\n",
    "- `Production Countries`. Same as Production Companies, we will **remove this column**.\n",
    "- `Release_date`. In this case, with no release date we cannot categorize by year. As we will after need it to select our cast, we will **drop rows** where the release date is missing.\n",
    "- `Runtime`. We can apply some techniques to keep our distribution on runtime, no need to drop any cell.\n",
    "- `Spoken_languages`. After we **drop rows** from previous columns, we will see if we still keep a high number, if so, we will also remove the column.\n",
    "- `Cast`. It's very important for us, more than genres. We will **drop rows** where the cast is missing.\n",
    "- `Crew`. As the Spoken languages column, we will later see what we should do."
   ]
  },
  {
   "cell_type": "code",
   "execution_count": 43,
   "metadata": {},
   "outputs": [],
   "source": [
    "movies_df = movies_df.dropna(subset=['genres', 'release_date', 'cast', 'crew', 'spoken_languages'])"
   ]
  },
  {
   "cell_type": "code",
   "execution_count": 44,
   "metadata": {},
   "outputs": [
    {
     "data": {
      "text/plain": [
       "(153850, 20)"
      ]
     },
     "execution_count": 44,
     "metadata": {},
     "output_type": "execute_result"
    }
   ],
   "source": [
    "movies_df.shape"
   ]
  },
  {
   "cell_type": "code",
   "execution_count": 45,
   "metadata": {},
   "outputs": [],
   "source": [
    "movies_df.drop([\"overview\", \"production_companies\", \"production_countries\"], axis=1, inplace=True)"
   ]
  },
  {
   "cell_type": "code",
   "execution_count": 46,
   "metadata": {},
   "outputs": [
    {
     "data": {
      "text/plain": [
       "['Drama']                                               28315\n",
       "['Comedy']                                              14315\n",
       "['Documentary']                                         12238\n",
       "['Horror']                                               5179\n",
       "['Comedy', 'Drama']                                      4662\n",
       "                                                        ...  \n",
       "['Action', 'Animation', 'Comedy', 'Crime', 'Drama']         1\n",
       "['Comedy', 'Drama', 'Horror', 'Mystery', 'Thriller']        1\n",
       "['Music', 'Comedy', 'Thriller']                             1\n",
       "['Science Fiction', 'Action', 'Fantasy', 'Comedy']          1\n",
       "['Adventure', 'Fantasy', 'History']                         1\n",
       "Name: genres, Length: 4720, dtype: int64"
      ]
     },
     "execution_count": 46,
     "metadata": {},
     "output_type": "execute_result"
    }
   ],
   "source": [
    "movies_df.genres.value_counts()"
   ]
  },
  {
   "cell_type": "code",
   "execution_count": 47,
   "metadata": {},
   "outputs": [
    {
     "name": "stdout",
     "output_type": "stream",
     "text": [
      "Percentage of NaNs: \n",
      "adult                0.000000\n",
      "budget               0.000000\n",
      "genres               0.000000\n",
      "original_language    0.000000\n",
      "original_title       0.000000\n",
      "popularity           0.000000\n",
      "release_date         0.000000\n",
      "revenue              0.000000\n",
      "runtime              2.505037\n",
      "spoken_languages     0.000000\n",
      "status               0.000000\n",
      "title                0.000000\n",
      "video                0.000000\n",
      "vote_average         0.000000\n",
      "vote_count           0.000000\n",
      "cast                 0.000000\n",
      "crew                 0.000000\n",
      "dtype: float64\n"
     ]
    }
   ],
   "source": [
    "print(f\"Percentage of NaNs: \\n{(movies_df.isna().sum() / len(movies_df)) * 100}\")"
   ]
  },
  {
   "cell_type": "code",
   "execution_count": 48,
   "metadata": {},
   "outputs": [],
   "source": [
    "movies_df[\"runtime\"].fillna(method='ffill', inplace=True)"
   ]
  },
  {
   "cell_type": "code",
   "execution_count": 49,
   "metadata": {},
   "outputs": [
    {
     "data": {
      "text/html": [
       "<div>\n",
       "<style scoped>\n",
       "    .dataframe tbody tr th:only-of-type {\n",
       "        vertical-align: middle;\n",
       "    }\n",
       "\n",
       "    .dataframe tbody tr th {\n",
       "        vertical-align: top;\n",
       "    }\n",
       "\n",
       "    .dataframe thead th {\n",
       "        text-align: right;\n",
       "    }\n",
       "</style>\n",
       "<table border=\"1\" class=\"dataframe\">\n",
       "  <thead>\n",
       "    <tr style=\"text-align: right;\">\n",
       "      <th></th>\n",
       "      <th>adult</th>\n",
       "      <th>budget</th>\n",
       "      <th>genres</th>\n",
       "      <th>original_language</th>\n",
       "      <th>original_title</th>\n",
       "      <th>popularity</th>\n",
       "      <th>release_date</th>\n",
       "      <th>revenue</th>\n",
       "      <th>runtime</th>\n",
       "      <th>spoken_languages</th>\n",
       "      <th>status</th>\n",
       "      <th>title</th>\n",
       "      <th>video</th>\n",
       "      <th>vote_average</th>\n",
       "      <th>vote_count</th>\n",
       "      <th>cast</th>\n",
       "      <th>crew</th>\n",
       "    </tr>\n",
       "  </thead>\n",
       "  <tbody>\n",
       "    <tr>\n",
       "      <th>0</th>\n",
       "      <td>False</td>\n",
       "      <td>0.0</td>\n",
       "      <td>['Crime', 'Mystery', 'Drama', 'Thriller', 'Hor...</td>\n",
       "      <td>es</td>\n",
       "      <td>La capilla ardiente</td>\n",
       "      <td>0.6</td>\n",
       "      <td>1981-06-05</td>\n",
       "      <td>0.0</td>\n",
       "      <td>0.0</td>\n",
       "      <td>['es']</td>\n",
       "      <td>Released</td>\n",
       "      <td>La capilla ardiente</td>\n",
       "      <td>False</td>\n",
       "      <td>3.0</td>\n",
       "      <td>3.0</td>\n",
       "      <td>['266603', '19447', '1178853', '1686031', '148...</td>\n",
       "      <td>['30823', '50542', '100897', '100897', '1489713']</td>\n",
       "    </tr>\n",
       "    <tr>\n",
       "      <th>1</th>\n",
       "      <td>False</td>\n",
       "      <td>840000.0</td>\n",
       "      <td>['Horror']</td>\n",
       "      <td>en</td>\n",
       "      <td>Fear No Evil</td>\n",
       "      <td>3.0669999999999997</td>\n",
       "      <td>1981-01-19</td>\n",
       "      <td>0.0</td>\n",
       "      <td>99.0</td>\n",
       "      <td>['en']</td>\n",
       "      <td>Released</td>\n",
       "      <td>Fear No Evil</td>\n",
       "      <td>False</td>\n",
       "      <td>4.4</td>\n",
       "      <td>14.0</td>\n",
       "      <td>['158489', '1219410', '995591', '104060', '157...</td>\n",
       "      <td>['11470', '19172', '106667', '137193', '583023...</td>\n",
       "    </tr>\n",
       "    <tr>\n",
       "      <th>2</th>\n",
       "      <td>False</td>\n",
       "      <td>0.0</td>\n",
       "      <td>['Action']</td>\n",
       "      <td>cn</td>\n",
       "      <td>少林寺</td>\n",
       "      <td>6.516</td>\n",
       "      <td>1982-01-21</td>\n",
       "      <td>16157801.0</td>\n",
       "      <td>95.0</td>\n",
       "      <td>['cn', 'zh']</td>\n",
       "      <td>Released</td>\n",
       "      <td>The Shaolin Temple</td>\n",
       "      <td>False</td>\n",
       "      <td>7.1</td>\n",
       "      <td>53.0</td>\n",
       "      <td>['1336', '1059241', '64707', '1342843', '13428...</td>\n",
       "      <td>['64690', '64688', '64687', '64689', '64692', ...</td>\n",
       "    </tr>\n",
       "    <tr>\n",
       "      <th>4</th>\n",
       "      <td>False</td>\n",
       "      <td>0.0</td>\n",
       "      <td>['Drama']</td>\n",
       "      <td>es</td>\n",
       "      <td>Barcelona sur</td>\n",
       "      <td>1.012</td>\n",
       "      <td>1981-01-01</td>\n",
       "      <td>0.0</td>\n",
       "      <td>101.0</td>\n",
       "      <td>['es']</td>\n",
       "      <td>Released</td>\n",
       "      <td>Barcelona sur</td>\n",
       "      <td>False</td>\n",
       "      <td>5.0</td>\n",
       "      <td>2.0</td>\n",
       "      <td>['1062327', '974896', '1383246', '144268', '13...</td>\n",
       "      <td>['37540', '542246', '1057601', '1057601', '108...</td>\n",
       "    </tr>\n",
       "    <tr>\n",
       "      <th>5</th>\n",
       "      <td>False</td>\n",
       "      <td>0.0</td>\n",
       "      <td>['Drama', 'Romance', 'Thriller']</td>\n",
       "      <td>de</td>\n",
       "      <td>Nullpunkt</td>\n",
       "      <td>0.8320000000000001</td>\n",
       "      <td>1982-01-01</td>\n",
       "      <td>0.0</td>\n",
       "      <td>87.0</td>\n",
       "      <td>['de']</td>\n",
       "      <td>Released</td>\n",
       "      <td>Zero Point</td>\n",
       "      <td>False</td>\n",
       "      <td>0.0</td>\n",
       "      <td>0.0</td>\n",
       "      <td>['26233', '21618', '37346', '12768', '9140', '...</td>\n",
       "      <td>['6245', '36995', '21072', '38843', '45717', '...</td>\n",
       "    </tr>\n",
       "  </tbody>\n",
       "</table>\n",
       "</div>"
      ],
      "text/plain": [
       "   adult    budget                                             genres  \\\n",
       "0  False       0.0  ['Crime', 'Mystery', 'Drama', 'Thriller', 'Hor...   \n",
       "1  False  840000.0                                         ['Horror']   \n",
       "2  False       0.0                                         ['Action']   \n",
       "4  False       0.0                                          ['Drama']   \n",
       "5  False       0.0                   ['Drama', 'Romance', 'Thriller']   \n",
       "\n",
       "  original_language       original_title          popularity release_date  \\\n",
       "0                es  La capilla ardiente                 0.6   1981-06-05   \n",
       "1                en         Fear No Evil  3.0669999999999997   1981-01-19   \n",
       "2                cn                  少林寺               6.516   1982-01-21   \n",
       "4                es        Barcelona sur               1.012   1981-01-01   \n",
       "5                de            Nullpunkt  0.8320000000000001   1982-01-01   \n",
       "\n",
       "      revenue  runtime spoken_languages    status                title  video  \\\n",
       "0         0.0      0.0           ['es']  Released  La capilla ardiente  False   \n",
       "1         0.0     99.0           ['en']  Released         Fear No Evil  False   \n",
       "2  16157801.0     95.0     ['cn', 'zh']  Released   The Shaolin Temple  False   \n",
       "4         0.0    101.0           ['es']  Released        Barcelona sur  False   \n",
       "5         0.0     87.0           ['de']  Released           Zero Point  False   \n",
       "\n",
       "   vote_average  vote_count  \\\n",
       "0           3.0         3.0   \n",
       "1           4.4        14.0   \n",
       "2           7.1        53.0   \n",
       "4           5.0         2.0   \n",
       "5           0.0         0.0   \n",
       "\n",
       "                                                cast  \\\n",
       "0  ['266603', '19447', '1178853', '1686031', '148...   \n",
       "1  ['158489', '1219410', '995591', '104060', '157...   \n",
       "2  ['1336', '1059241', '64707', '1342843', '13428...   \n",
       "4  ['1062327', '974896', '1383246', '144268', '13...   \n",
       "5  ['26233', '21618', '37346', '12768', '9140', '...   \n",
       "\n",
       "                                                crew  \n",
       "0  ['30823', '50542', '100897', '100897', '1489713']  \n",
       "1  ['11470', '19172', '106667', '137193', '583023...  \n",
       "2  ['64690', '64688', '64687', '64689', '64692', ...  \n",
       "4  ['37540', '542246', '1057601', '1057601', '108...  \n",
       "5  ['6245', '36995', '21072', '38843', '45717', '...  "
      ]
     },
     "execution_count": 49,
     "metadata": {},
     "output_type": "execute_result"
    }
   ],
   "source": [
    "movies_df.head()"
   ]
  },
  {
   "cell_type": "code",
   "execution_count": 50,
   "metadata": {},
   "outputs": [
    {
     "data": {
      "text/plain": [
       "(153850, 17)"
      ]
     },
     "execution_count": 50,
     "metadata": {},
     "output_type": "execute_result"
    }
   ],
   "source": [
    "movies_df.shape"
   ]
  },
  {
   "cell_type": "markdown",
   "metadata": {},
   "source": [
    "We visualized, transformed, and reduced. From 250,000 cells to finally 154,000."
   ]
  },
  {
   "cell_type": "markdown",
   "metadata": {},
   "source": [
    "### Target attribute"
   ]
  },
  {
   "cell_type": "markdown",
   "metadata": {},
   "source": [
    "For our classification problem we want to predict if a movie is going to succeed or not. How do we know if a movie is on \"success\" status? Easy, if vote_average is superior of 8, we decide it's a success."
   ]
  },
  {
   "cell_type": "code",
   "execution_count": 51,
   "metadata": {},
   "outputs": [],
   "source": [
    "movies_df[\"success\"] = movies_df[\"vote_average\"].apply(lambda x: True if x > 8 else False)"
   ]
  },
  {
   "cell_type": "markdown",
   "metadata": {},
   "source": [
    "### Visualize data"
   ]
  },
  {
   "cell_type": "markdown",
   "metadata": {},
   "source": [
    "#### Target attribute"
   ]
  },
  {
   "cell_type": "code",
   "execution_count": 52,
   "metadata": {},
   "outputs": [
    {
     "name": "stdout",
     "output_type": "stream",
     "text": [
      "success\n",
      "False    148416\n",
      "True       5434\n",
      "dtype: int64\n"
     ]
    }
   ],
   "source": [
    "print(movies_df.groupby('success').size())"
   ]
  },
  {
   "cell_type": "code",
   "execution_count": 53,
   "metadata": {},
   "outputs": [
    {
     "data": {
      "text/plain": [
       "<matplotlib.axes._subplots.AxesSubplot at 0x131b26050>"
      ]
     },
     "execution_count": 53,
     "metadata": {},
     "output_type": "execute_result"
    },
    {
     "data": {
      "image/png": "[encoded data removed]",
      "text/plain": [
       "<Figure size 432x288 with 1 Axes>"
      ]
     },
     "metadata": {},
     "output_type": "display_data"
    }
   ],
   "source": [
    "sns.countplot(movies_df['success'], label=\"Count\")"
   ]
  },
  {
   "cell_type": "markdown",
   "metadata": {},
   "source": [
    "Our target attribute is unbalanced. Later we will need to use some techniques to balance it."
   ]
  },
  {
   "cell_type": "markdown",
   "metadata": {},
   "source": [
    "#### Visualize Correlations"
   ]
  },
  {
   "cell_type": "code",
   "execution_count": 54,
   "metadata": {},
   "outputs": [
    {
     "data": {
      "text/plain": [
       "(7.5, -0.5)"
      ]
     },
     "execution_count": 54,
     "metadata": {},
     "output_type": "execute_result"
    },
    {
     "data": {
      "image/png": "[encoded data removed]",
      "text/plain": [
       "<Figure size 576x576 with 2 Axes>"
      ]
     },
     "metadata": {},
     "output_type": "display_data"
    }
   ],
   "source": [
    "# Correlation Matrix Heatmap Visualization (should run this code again after removing outliers/zero values)\n",
    "sns.set(style=\"white\")\n",
    "# Generate a mask for the upper triangle\n",
    "mask = np.zeros_like(movies_df.corr(), dtype=np.bool)\n",
    "mask[np.triu_indices_from(mask)] = True\n",
    "# Set up the matplotlib figure to control size of heatmap\n",
    "fig, ax = plt.subplots(figsize=(8,8))\n",
    "# Create a custom color palette\n",
    "cmap = sns.diverging_palette(255, 10, as_cmap=True)  # as_cmap returns a matplotlib colormap object rather than a list of colors\n",
    "# Red=10, Green=128, Blue=255\n",
    "# Plot the heatmap\n",
    "sns.heatmap(movies_df.corr(), mask=mask, annot=True, square=True, cmap=cmap , vmin=-1, vmax=1, ax=ax)  # annot display corr label\n",
    "# Prevent Heatmap Cut-Off Issue\n",
    "bottom, top = ax.get_ylim()\n",
    "ax.set_ylim(bottom+0.5, top-0.5)"
   ]
  },
  {
   "cell_type": "markdown",
   "metadata": {},
   "source": [
    "It's normal that our revenue is pretty correlated with vote_count. More revenue, more votes!"
   ]
  },
  {
   "cell_type": "markdown",
   "metadata": {},
   "source": [
    "We finalize our work here. We discovered pretty good visualizations and did good transformations! Please, go to the next notebook called `4.Data_Wrangling.ipynb` to data wrangling our dataset."
   ]
  },
  {
   "cell_type": "code",
   "execution_count": 29,
   "metadata": {},
   "outputs": [],
   "source": [
    "movies_df.to_csv(\"../data/processed/transformation/movies_explored_list.csv\")"
   ]
  }
 ],
 "metadata": {
  "kernelspec": {
   "display_name": "Python 3",
   "language": "python",
   "name": "python3"
  },
  "language_info": {
   "codemirror_mode": {
    "name": "ipython",
    "version": 3
   },
   "file_extension": ".py",
   "mimetype": "text/x-python",
   "name": "python",
   "nbconvert_exporter": "python",
   "pygments_lexer": "ipython3",
   "version": "3.7.7"
  },
  "toc": {
   "base_numbering": 1,
   "nav_menu": {},
   "number_sections": true,
   "sideBar": true,
   "skip_h1_title": false,
   "title_cell": "Table of Contents",
   "title_sidebar": "Contents",
   "toc_cell": false,
   "toc_position": {},
   "toc_section_display": true,
   "toc_window_display": false
  }
 },
 "nbformat": 4,
 "nbformat_minor": 2
}
