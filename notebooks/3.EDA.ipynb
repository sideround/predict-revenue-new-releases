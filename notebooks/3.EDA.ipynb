{
 "cells": [
  {
   "cell_type": "markdown",
   "metadata": {},
   "source": [
    "We already have built the dataset we are going to use. Now it's time to explore this final dataset in case there is any outlier or any transformation is required to later use on modeling. Here is the plan: "
   ]
  },
  {
   "cell_type": "markdown",
   "metadata": {},
   "source": [
    "- First visualization of our data. \n",
    "- Detect any outliers (there won't be many as our data is mostly categorical). \n",
    "- Visualize correlation. \n",
    "- Get insights and transform. \n",
    "- Encode (if necessary) our categorical columns. \n",
    "- Export two different datasets ready to be used on modeling. One for rating and other for revenue."
   ]
  },
  {
   "cell_type": "markdown",
   "metadata": {},
   "source": [
    "### Imports"
   ]
  },
  {
   "cell_type": "code",
   "execution_count": 1,
   "metadata": {},
   "outputs": [],
   "source": [
    "import pandas as pd\n",
    "import numpy as np\n",
    "import matplotlib.pyplot as plt\n",
    "import seaborn as sns"
   ]
  },
  {
   "cell_type": "markdown",
   "metadata": {},
   "source": [
    "We built up the dataset so we actually have [...]"
   ]
  },
  {
   "cell_type": "code",
   "execution_count": 2,
   "metadata": {},
   "outputs": [],
   "source": [
    "movies_df = pd.read_csv(\"../data/processed/transformation/movies_transformed_list.csv\", index_col=0)"
   ]
  },
  {
   "cell_type": "markdown",
   "metadata": {},
   "source": [
    "### EDA"
   ]
  },
  {
   "cell_type": "markdown",
   "metadata": {},
   "source": [
    "#### Exploratory"
   ]
  },
  {
   "cell_type": "markdown",
   "metadata": {},
   "source": [
    "Let's start exploring our final dataset!"
   ]
  },
  {
   "cell_type": "code",
   "execution_count": 3,
   "metadata": {},
   "outputs": [
    {
     "data": {
      "text/html": [
       "<div>\n",
       "<style scoped>\n",
       "    .dataframe tbody tr th:only-of-type {\n",
       "        vertical-align: middle;\n",
       "    }\n",
       "\n",
       "    .dataframe tbody tr th {\n",
       "        vertical-align: top;\n",
       "    }\n",
       "\n",
       "    .dataframe thead th {\n",
       "        text-align: right;\n",
       "    }\n",
       "</style>\n",
       "<table border=\"1\" class=\"dataframe\">\n",
       "  <thead>\n",
       "    <tr style=\"text-align: right;\">\n",
       "      <th></th>\n",
       "      <th>index</th>\n",
       "      <th>adult</th>\n",
       "      <th>backdrop_path</th>\n",
       "      <th>belongs_to_collection</th>\n",
       "      <th>budget</th>\n",
       "      <th>genres</th>\n",
       "      <th>homepage</th>\n",
       "      <th>id</th>\n",
       "      <th>imdb_id</th>\n",
       "      <th>original_language</th>\n",
       "      <th>...</th>\n",
       "      <th>runtime</th>\n",
       "      <th>spoken_languages</th>\n",
       "      <th>status</th>\n",
       "      <th>tagline</th>\n",
       "      <th>title</th>\n",
       "      <th>video</th>\n",
       "      <th>vote_average</th>\n",
       "      <th>vote_count</th>\n",
       "      <th>cast</th>\n",
       "      <th>crew</th>\n",
       "    </tr>\n",
       "  </thead>\n",
       "  <tbody>\n",
       "    <tr>\n",
       "      <th>0</th>\n",
       "      <td>0</td>\n",
       "      <td>False</td>\n",
       "      <td>/cGAm3MeVNf0JvrfXVPLDbhEmkpa.jpg</td>\n",
       "      <td>NaN</td>\n",
       "      <td>0</td>\n",
       "      <td>['Thriller', 'Horror']</td>\n",
       "      <td>NaN</td>\n",
       "      <td>616801</td>\n",
       "      <td>tt10504248</td>\n",
       "      <td>en</td>\n",
       "      <td>...</td>\n",
       "      <td>0.0</td>\n",
       "      <td>['en']</td>\n",
       "      <td>In Production</td>\n",
       "      <td>NaN</td>\n",
       "      <td>The Northwoods</td>\n",
       "      <td>False</td>\n",
       "      <td>0.0</td>\n",
       "      <td>0</td>\n",
       "      <td>['190895', '1198672']</td>\n",
       "      <td>['1459977', '1459977', '1470374', '1546613', '...</td>\n",
       "    </tr>\n",
       "    <tr>\n",
       "      <th>1</th>\n",
       "      <td>1</td>\n",
       "      <td>False</td>\n",
       "      <td>/cGAm3MeVNf0JvrfXVPLDbhEmkpa.jpg</td>\n",
       "      <td>NaN</td>\n",
       "      <td>0</td>\n",
       "      <td>['Thriller', 'Horror']</td>\n",
       "      <td>NaN</td>\n",
       "      <td>616801</td>\n",
       "      <td>tt10504248</td>\n",
       "      <td>en</td>\n",
       "      <td>...</td>\n",
       "      <td>0.0</td>\n",
       "      <td>['en']</td>\n",
       "      <td>In Production</td>\n",
       "      <td>NaN</td>\n",
       "      <td>The Northwoods</td>\n",
       "      <td>False</td>\n",
       "      <td>0.0</td>\n",
       "      <td>0</td>\n",
       "      <td>['190895', '1198672']</td>\n",
       "      <td>['1459977', '1459977', '1470374', '1546613', '...</td>\n",
       "    </tr>\n",
       "    <tr>\n",
       "      <th>2</th>\n",
       "      <td>2</td>\n",
       "      <td>False</td>\n",
       "      <td>NaN</td>\n",
       "      <td>NaN</td>\n",
       "      <td>0</td>\n",
       "      <td>['Thriller', 'Crime']</td>\n",
       "      <td>NaN</td>\n",
       "      <td>602269</td>\n",
       "      <td>tt10016180</td>\n",
       "      <td>en</td>\n",
       "      <td>...</td>\n",
       "      <td>0.0</td>\n",
       "      <td>['en']</td>\n",
       "      <td>Post Production</td>\n",
       "      <td>NaN</td>\n",
       "      <td>The Little Things</td>\n",
       "      <td>False</td>\n",
       "      <td>0.0</td>\n",
       "      <td>0</td>\n",
       "      <td>['5292', '17838', '7499', '95039', '118752', '...</td>\n",
       "      <td>['892', '5162', '7855', '8411', '54040', '5404...</td>\n",
       "    </tr>\n",
       "    <tr>\n",
       "      <th>3</th>\n",
       "      <td>3</td>\n",
       "      <td>False</td>\n",
       "      <td>NaN</td>\n",
       "      <td>NaN</td>\n",
       "      <td>0</td>\n",
       "      <td>['Drama']</td>\n",
       "      <td>NaN</td>\n",
       "      <td>615777</td>\n",
       "      <td>tt10640346</td>\n",
       "      <td>en</td>\n",
       "      <td>...</td>\n",
       "      <td>0.0</td>\n",
       "      <td>['en']</td>\n",
       "      <td>Planned</td>\n",
       "      <td>NaN</td>\n",
       "      <td>Babylon</td>\n",
       "      <td>False</td>\n",
       "      <td>0.0</td>\n",
       "      <td>0</td>\n",
       "      <td>['54693', '287', '2219', '5064', '135651']</td>\n",
       "      <td>['2219', '23485', '73453', '136495', '136495',...</td>\n",
       "    </tr>\n",
       "    <tr>\n",
       "      <th>4</th>\n",
       "      <td>4</td>\n",
       "      <td>False</td>\n",
       "      <td>NaN</td>\n",
       "      <td>NaN</td>\n",
       "      <td>0</td>\n",
       "      <td>['Western', 'Drama', 'Crime', 'Thriller', 'Mus...</td>\n",
       "      <td>NaN</td>\n",
       "      <td>618162</td>\n",
       "      <td>tt10696784</td>\n",
       "      <td>en</td>\n",
       "      <td>...</td>\n",
       "      <td>NaN</td>\n",
       "      <td>['en']</td>\n",
       "      <td>Planned</td>\n",
       "      <td>NaN</td>\n",
       "      <td>The Harder They Fall</td>\n",
       "      <td>False</td>\n",
       "      <td>0.0</td>\n",
       "      <td>0</td>\n",
       "      <td>['1674162', '17605']</td>\n",
       "      <td>['2545', '46080', '52358', '84932', '1059578',...</td>\n",
       "    </tr>\n",
       "  </tbody>\n",
       "</table>\n",
       "<p>5 rows × 28 columns</p>\n",
       "</div>"
      ],
      "text/plain": [
       "   index  adult                     backdrop_path belongs_to_collection  \\\n",
       "0      0  False  /cGAm3MeVNf0JvrfXVPLDbhEmkpa.jpg                   NaN   \n",
       "1      1  False  /cGAm3MeVNf0JvrfXVPLDbhEmkpa.jpg                   NaN   \n",
       "2      2  False                               NaN                   NaN   \n",
       "3      3  False                               NaN                   NaN   \n",
       "4      4  False                               NaN                   NaN   \n",
       "\n",
       "   budget                                             genres homepage      id  \\\n",
       "0       0                             ['Thriller', 'Horror']      NaN  616801   \n",
       "1       0                             ['Thriller', 'Horror']      NaN  616801   \n",
       "2       0                              ['Thriller', 'Crime']      NaN  602269   \n",
       "3       0                                          ['Drama']      NaN  615777   \n",
       "4       0  ['Western', 'Drama', 'Crime', 'Thriller', 'Mus...      NaN  618162   \n",
       "\n",
       "      imdb_id original_language  ... runtime spoken_languages  \\\n",
       "0  tt10504248                en  ...     0.0           ['en']   \n",
       "1  tt10504248                en  ...     0.0           ['en']   \n",
       "2  tt10016180                en  ...     0.0           ['en']   \n",
       "3  tt10640346                en  ...     0.0           ['en']   \n",
       "4  tt10696784                en  ...     NaN           ['en']   \n",
       "\n",
       "            status tagline                 title  video vote_average  \\\n",
       "0    In Production     NaN        The Northwoods  False          0.0   \n",
       "1    In Production     NaN        The Northwoods  False          0.0   \n",
       "2  Post Production     NaN     The Little Things  False          0.0   \n",
       "3          Planned     NaN               Babylon  False          0.0   \n",
       "4          Planned     NaN  The Harder They Fall  False          0.0   \n",
       "\n",
       "   vote_count                                               cast  \\\n",
       "0           0                              ['190895', '1198672']   \n",
       "1           0                              ['190895', '1198672']   \n",
       "2           0  ['5292', '17838', '7499', '95039', '118752', '...   \n",
       "3           0         ['54693', '287', '2219', '5064', '135651']   \n",
       "4           0                               ['1674162', '17605']   \n",
       "\n",
       "                                                crew  \n",
       "0  ['1459977', '1459977', '1470374', '1546613', '...  \n",
       "1  ['1459977', '1459977', '1470374', '1546613', '...  \n",
       "2  ['892', '5162', '7855', '8411', '54040', '5404...  \n",
       "3  ['2219', '23485', '73453', '136495', '136495',...  \n",
       "4  ['2545', '46080', '52358', '84932', '1059578',...  \n",
       "\n",
       "[5 rows x 28 columns]"
      ]
     },
     "execution_count": 3,
     "metadata": {},
     "output_type": "execute_result"
    }
   ],
   "source": [
    "movies_df.head()"
   ]
  },
  {
   "cell_type": "code",
   "execution_count": 4,
   "metadata": {},
   "outputs": [
    {
     "name": "stdout",
     "output_type": "stream",
     "text": [
      "<class 'pandas.core.frame.DataFrame'>\n",
      "Int64Index: 358 entries, 0 to 357\n",
      "Data columns (total 28 columns):\n",
      "index                    358 non-null int64\n",
      "adult                    358 non-null bool\n",
      "backdrop_path            64 non-null object\n",
      "belongs_to_collection    67 non-null object\n",
      "budget                   358 non-null int64\n",
      "genres                   358 non-null object\n",
      "homepage                 59 non-null object\n",
      "id                       358 non-null int64\n",
      "imdb_id                  358 non-null object\n",
      "original_language        358 non-null object\n",
      "original_title           358 non-null object\n",
      "overview                 332 non-null object\n",
      "popularity               358 non-null float64\n",
      "poster_path              208 non-null object\n",
      "production_companies     358 non-null object\n",
      "production_countries     358 non-null object\n",
      "release_date             278 non-null object\n",
      "revenue                  358 non-null int64\n",
      "runtime                  296 non-null float64\n",
      "spoken_languages         358 non-null object\n",
      "status                   358 non-null object\n",
      "tagline                  36 non-null object\n",
      "title                    358 non-null object\n",
      "video                    358 non-null bool\n",
      "vote_average             358 non-null float64\n",
      "vote_count               358 non-null int64\n",
      "cast                     358 non-null object\n",
      "crew                     358 non-null object\n",
      "dtypes: bool(2), float64(3), int64(5), object(18)\n",
      "memory usage: 76.2+ KB\n"
     ]
    }
   ],
   "source": [
    "movies_df.info()"
   ]
  },
  {
   "cell_type": "code",
   "execution_count": 5,
   "metadata": {},
   "outputs": [
    {
     "data": {
      "text/html": [
       "<div>\n",
       "<style scoped>\n",
       "    .dataframe tbody tr th:only-of-type {\n",
       "        vertical-align: middle;\n",
       "    }\n",
       "\n",
       "    .dataframe tbody tr th {\n",
       "        vertical-align: top;\n",
       "    }\n",
       "\n",
       "    .dataframe thead th {\n",
       "        text-align: right;\n",
       "    }\n",
       "</style>\n",
       "<table border=\"1\" class=\"dataframe\">\n",
       "  <thead>\n",
       "    <tr style=\"text-align: right;\">\n",
       "      <th></th>\n",
       "      <th>index</th>\n",
       "      <th>budget</th>\n",
       "      <th>id</th>\n",
       "      <th>popularity</th>\n",
       "      <th>revenue</th>\n",
       "      <th>runtime</th>\n",
       "      <th>vote_average</th>\n",
       "      <th>vote_count</th>\n",
       "    </tr>\n",
       "  </thead>\n",
       "  <tbody>\n",
       "    <tr>\n",
       "      <th>count</th>\n",
       "      <td>358.000000</td>\n",
       "      <td>3.580000e+02</td>\n",
       "      <td>358.000000</td>\n",
       "      <td>358.000000</td>\n",
       "      <td>358.0</td>\n",
       "      <td>296.000000</td>\n",
       "      <td>358.000000</td>\n",
       "      <td>358.000000</td>\n",
       "    </tr>\n",
       "    <tr>\n",
       "      <th>mean</th>\n",
       "      <td>178.500000</td>\n",
       "      <td>3.648327e+06</td>\n",
       "      <td>565212.145251</td>\n",
       "      <td>3.560441</td>\n",
       "      <td>0.0</td>\n",
       "      <td>10.354730</td>\n",
       "      <td>0.061453</td>\n",
       "      <td>0.047486</td>\n",
       "    </tr>\n",
       "    <tr>\n",
       "      <th>std</th>\n",
       "      <td>103.489935</td>\n",
       "      <td>2.731638e+07</td>\n",
       "      <td>110323.511288</td>\n",
       "      <td>3.003280</td>\n",
       "      <td>0.0</td>\n",
       "      <td>30.808526</td>\n",
       "      <td>0.691380</td>\n",
       "      <td>0.479825</td>\n",
       "    </tr>\n",
       "    <tr>\n",
       "      <th>min</th>\n",
       "      <td>0.000000</td>\n",
       "      <td>0.000000e+00</td>\n",
       "      <td>76600.000000</td>\n",
       "      <td>0.600000</td>\n",
       "      <td>0.0</td>\n",
       "      <td>0.000000</td>\n",
       "      <td>0.000000</td>\n",
       "      <td>0.000000</td>\n",
       "    </tr>\n",
       "    <tr>\n",
       "      <th>25%</th>\n",
       "      <td>89.250000</td>\n",
       "      <td>0.000000e+00</td>\n",
       "      <td>507086.000000</td>\n",
       "      <td>0.691000</td>\n",
       "      <td>0.0</td>\n",
       "      <td>0.000000</td>\n",
       "      <td>0.000000</td>\n",
       "      <td>0.000000</td>\n",
       "    </tr>\n",
       "    <tr>\n",
       "      <th>50%</th>\n",
       "      <td>178.500000</td>\n",
       "      <td>0.000000e+00</td>\n",
       "      <td>597925.500000</td>\n",
       "      <td>2.985500</td>\n",
       "      <td>0.0</td>\n",
       "      <td>0.000000</td>\n",
       "      <td>0.000000</td>\n",
       "      <td>0.000000</td>\n",
       "    </tr>\n",
       "    <tr>\n",
       "      <th>75%</th>\n",
       "      <td>267.750000</td>\n",
       "      <td>0.000000e+00</td>\n",
       "      <td>641281.500000</td>\n",
       "      <td>5.286000</td>\n",
       "      <td>0.0</td>\n",
       "      <td>0.000000</td>\n",
       "      <td>0.000000</td>\n",
       "      <td>0.000000</td>\n",
       "    </tr>\n",
       "    <tr>\n",
       "      <th>max</th>\n",
       "      <td>357.000000</td>\n",
       "      <td>3.870000e+08</td>\n",
       "      <td>711652.000000</td>\n",
       "      <td>17.605000</td>\n",
       "      <td>0.0</td>\n",
       "      <td>145.000000</td>\n",
       "      <td>10.000000</td>\n",
       "      <td>6.000000</td>\n",
       "    </tr>\n",
       "  </tbody>\n",
       "</table>\n",
       "</div>"
      ],
      "text/plain": [
       "            index        budget             id  popularity  revenue  \\\n",
       "count  358.000000  3.580000e+02     358.000000  358.000000    358.0   \n",
       "mean   178.500000  3.648327e+06  565212.145251    3.560441      0.0   \n",
       "std    103.489935  2.731638e+07  110323.511288    3.003280      0.0   \n",
       "min      0.000000  0.000000e+00   76600.000000    0.600000      0.0   \n",
       "25%     89.250000  0.000000e+00  507086.000000    0.691000      0.0   \n",
       "50%    178.500000  0.000000e+00  597925.500000    2.985500      0.0   \n",
       "75%    267.750000  0.000000e+00  641281.500000    5.286000      0.0   \n",
       "max    357.000000  3.870000e+08  711652.000000   17.605000      0.0   \n",
       "\n",
       "          runtime  vote_average  vote_count  \n",
       "count  296.000000    358.000000  358.000000  \n",
       "mean    10.354730      0.061453    0.047486  \n",
       "std     30.808526      0.691380    0.479825  \n",
       "min      0.000000      0.000000    0.000000  \n",
       "25%      0.000000      0.000000    0.000000  \n",
       "50%      0.000000      0.000000    0.000000  \n",
       "75%      0.000000      0.000000    0.000000  \n",
       "max    145.000000     10.000000    6.000000  "
      ]
     },
     "execution_count": 5,
     "metadata": {},
     "output_type": "execute_result"
    }
   ],
   "source": [
    "movies_df.describe()"
   ]
  },
  {
   "cell_type": "markdown",
   "metadata": {},
   "source": [
    "From previous exploratory we see we got many categorical values which are not worth investigating, we will remove them on the next step."
   ]
  },
  {
   "cell_type": "code",
   "execution_count": 8,
   "metadata": {},
   "outputs": [],
   "source": [
    "columns_to_remove = [\"backdrop_path\", \"belongs_to_collection\", \"homepage\", \"index\", \"imdb_id\", \"id\", \"poster_path\", \"tagline\", \"status_code\", \"status_message\"]"
   ]
  },
  {
   "cell_type": "code",
   "execution_count": 9,
   "metadata": {},
   "outputs": [],
   "source": [
    "movies_df.drop(columns_to_remove, axis=1, inplace=True)"
   ]
  },
  {
   "cell_type": "markdown",
   "metadata": {},
   "source": [
    "#### Numerical columns"
   ]
  },
  {
   "cell_type": "markdown",
   "metadata": {},
   "source": [
    "We can see some object columns actually are numeric. We will convert to numeric here."
   ]
  },
  {
   "cell_type": "code",
   "execution_count": 10,
   "metadata": {},
   "outputs": [],
   "source": [
    "columns_to_numeric = [\"budget\", \"popularity\", \"popularity\"]\n",
    "\n",
    "for column in columns_to_numeric:\n",
    "    pd.to_numeric(movies_df.budget, errors='coerce')"
   ]
  },
  {
   "cell_type": "markdown",
   "metadata": {},
   "source": [
    "#### Boolean columns"
   ]
  },
  {
   "cell_type": "markdown",
   "metadata": {},
   "source": [
    "We can see some object columns actually are numeric. We will convert to numeric here."
   ]
  },
  {
   "cell_type": "code",
   "execution_count": 11,
   "metadata": {},
   "outputs": [],
   "source": [
    "columns_to_bool = [\"adult\", \"video\"]\n",
    "\n",
    "for column in columns_to_bool:\n",
    "    movies_df[column] = movies_df[column].apply(lambda x: True if x == \"True\" else False)"
   ]
  },
  {
   "cell_type": "code",
   "execution_count": 12,
   "metadata": {},
   "outputs": [
    {
     "name": "stdout",
     "output_type": "stream",
     "text": [
      "<class 'pandas.core.frame.DataFrame'>\n",
      "Int64Index: 358 entries, 0 to 357\n",
      "Data columns (total 20 columns):\n",
      "adult                   358 non-null bool\n",
      "budget                  358 non-null int64\n",
      "genres                  358 non-null object\n",
      "original_language       358 non-null object\n",
      "original_title          358 non-null object\n",
      "overview                332 non-null object\n",
      "popularity              358 non-null float64\n",
      "production_companies    358 non-null object\n",
      "production_countries    358 non-null object\n",
      "release_date            278 non-null object\n",
      "revenue                 358 non-null int64\n",
      "runtime                 296 non-null float64\n",
      "spoken_languages        358 non-null object\n",
      "status                  358 non-null object\n",
      "title                   358 non-null object\n",
      "video                   358 non-null bool\n",
      "vote_average            358 non-null float64\n",
      "vote_count              358 non-null int64\n",
      "cast                    358 non-null object\n",
      "crew                    358 non-null object\n",
      "dtypes: bool(2), float64(3), int64(3), object(12)\n",
      "memory usage: 53.8+ KB\n"
     ]
    }
   ],
   "source": [
    "movies_df.info()"
   ]
  },
  {
   "cell_type": "markdown",
   "metadata": {},
   "source": [
    "#### NaN Detection"
   ]
  },
  {
   "cell_type": "markdown",
   "metadata": {},
   "source": [
    "Before visualizing our NaNs, we will transform all empty arrays we got to better our Nans."
   ]
  },
  {
   "cell_type": "code",
   "execution_count": 13,
   "metadata": {},
   "outputs": [],
   "source": [
    "movies_df = movies_df.replace('[]', np.NaN)"
   ]
  },
  {
   "cell_type": "code",
   "execution_count": 14,
   "metadata": {},
   "outputs": [
    {
     "data": {
      "text/plain": [
       "(358, 20)"
      ]
     },
     "execution_count": 14,
     "metadata": {},
     "output_type": "execute_result"
    }
   ],
   "source": [
    "movies_df.shape"
   ]
  },
  {
   "cell_type": "code",
   "execution_count": 15,
   "metadata": {},
   "outputs": [
    {
     "name": "stdout",
     "output_type": "stream",
     "text": [
      "Percentage of NaNs: \n",
      "adult                    0.000000\n",
      "budget                   0.000000\n",
      "genres                  14.245810\n",
      "original_language        0.000000\n",
      "original_title           0.000000\n",
      "overview                 7.262570\n",
      "popularity               0.000000\n",
      "production_companies    20.391061\n",
      "production_countries    19.273743\n",
      "release_date            22.346369\n",
      "revenue                  0.000000\n",
      "runtime                 17.318436\n",
      "spoken_languages        15.642458\n",
      "status                   0.000000\n",
      "title                    0.000000\n",
      "video                    0.000000\n",
      "vote_average             0.000000\n",
      "vote_count               0.000000\n",
      "cast                    28.491620\n",
      "crew                    11.452514\n",
      "dtype: float64\n"
     ]
    }
   ],
   "source": [
    "print(f\"Percentage of NaNs: \\n{(movies_df.isna().sum() / len(movies_df)) * 100}\")"
   ]
  },
  {
   "cell_type": "markdown",
   "metadata": {},
   "source": [
    "Big numbers 😱. Let's go case by case."
   ]
  },
  {
   "cell_type": "markdown",
   "metadata": {},
   "source": [
    "- `Genres`. Genres is a very important feature for us. In this case, we will **drop rows** where genres is missing.\n",
    "- `Overview`. Overview will be removed as data here is not needed at all. \n",
    "- `Production Companies`. Almost half of our dataset. As it's not as important as genres, we will **remove this column**.\n",
    "- `Prouction Countries`. Same as Production Companies, we will **remove this column**.\n",
    "- `Release_date`. In this case, with no release date we cannot categorize by year. As we will after need it to select our cast, we will **drop rows** where release date is missing.\n",
    "- `Runtime`. We can apply some techniques to keep our distribution on runtime, no need to drop any cell.\n",
    "- `Spoken_languages`. After we **drop rows** from previous columns, we will see if we still keep a high number, if so, we will also remove the column.\n",
    "- `Cast`. It's very important for us, more than genres. We will **drop rows** where cast is missing.\n",
    "- `Crew`. As Spoken languages column, we will later see what we should do."
   ]
  },
  {
   "cell_type": "code",
   "execution_count": 16,
   "metadata": {},
   "outputs": [],
   "source": [
    "movies_df = movies_df.dropna(subset=['genres', 'release_date', 'cast', 'crew', 'spoken_languages'])"
   ]
  },
  {
   "cell_type": "code",
   "execution_count": 17,
   "metadata": {},
   "outputs": [
    {
     "data": {
      "text/plain": [
       "(183, 20)"
      ]
     },
     "execution_count": 17,
     "metadata": {},
     "output_type": "execute_result"
    }
   ],
   "source": [
    "movies_df.shape"
   ]
  },
  {
   "cell_type": "code",
   "execution_count": 18,
   "metadata": {},
   "outputs": [],
   "source": [
    "movies_df.drop([\"overview\", \"production_companies\", \"production_countries\"], axis=1, inplace=True)"
   ]
  },
  {
   "cell_type": "code",
   "execution_count": 19,
   "metadata": {},
   "outputs": [
    {
     "data": {
      "text/plain": [
       "['Drama']                                                            11\n",
       "['Action']                                                           10\n",
       "['Comedy']                                                           10\n",
       "['Action', 'Thriller']                                                8\n",
       "['Action', 'Adventure', 'Fantasy']                                    7\n",
       "                                                                     ..\n",
       "['Drama', 'Science Fiction', 'Adventure', 'Action']                   1\n",
       "['Adventure', 'Action', 'Fantasy']                                    1\n",
       "['Action', 'Adventure', 'Science Fiction', 'Fantasy', 'Thriller']     1\n",
       "['Adventure']                                                         1\n",
       "['Documentary', 'Science Fiction']                                    1\n",
       "Name: genres, Length: 76, dtype: int64"
      ]
     },
     "execution_count": 19,
     "metadata": {},
     "output_type": "execute_result"
    }
   ],
   "source": [
    "movies_df.genres.value_counts()"
   ]
  },
  {
   "cell_type": "code",
   "execution_count": 20,
   "metadata": {},
   "outputs": [
    {
     "name": "stdout",
     "output_type": "stream",
     "text": [
      "Percentage of NaNs: \n",
      "adult                0.000000\n",
      "budget               0.000000\n",
      "genres               0.000000\n",
      "original_language    0.000000\n",
      "original_title       0.000000\n",
      "popularity           0.000000\n",
      "release_date         0.000000\n",
      "revenue              0.000000\n",
      "runtime              2.185792\n",
      "spoken_languages     0.000000\n",
      "status               0.000000\n",
      "title                0.000000\n",
      "video                0.000000\n",
      "vote_average         0.000000\n",
      "vote_count           0.000000\n",
      "cast                 0.000000\n",
      "crew                 0.000000\n",
      "dtype: float64\n"
     ]
    }
   ],
   "source": [
    "print(f\"Percentage of NaNs: \\n{(movies_df.isna().sum() / len(movies_df)) * 100}\")"
   ]
  },
  {
   "cell_type": "code",
   "execution_count": 21,
   "metadata": {},
   "outputs": [],
   "source": [
    "movies_df[\"runtime\"].fillna(method='ffill', inplace=True)"
   ]
  },
  {
   "cell_type": "code",
   "execution_count": 22,
   "metadata": {},
   "outputs": [
    {
     "data": {
      "text/html": [
       "<div>\n",
       "<style scoped>\n",
       "    .dataframe tbody tr th:only-of-type {\n",
       "        vertical-align: middle;\n",
       "    }\n",
       "\n",
       "    .dataframe tbody tr th {\n",
       "        vertical-align: top;\n",
       "    }\n",
       "\n",
       "    .dataframe thead th {\n",
       "        text-align: right;\n",
       "    }\n",
       "</style>\n",
       "<table border=\"1\" class=\"dataframe\">\n",
       "  <thead>\n",
       "    <tr style=\"text-align: right;\">\n",
       "      <th></th>\n",
       "      <th>adult</th>\n",
       "      <th>budget</th>\n",
       "      <th>genres</th>\n",
       "      <th>original_language</th>\n",
       "      <th>original_title</th>\n",
       "      <th>popularity</th>\n",
       "      <th>release_date</th>\n",
       "      <th>revenue</th>\n",
       "      <th>runtime</th>\n",
       "      <th>spoken_languages</th>\n",
       "      <th>status</th>\n",
       "      <th>title</th>\n",
       "      <th>video</th>\n",
       "      <th>vote_average</th>\n",
       "      <th>vote_count</th>\n",
       "      <th>cast</th>\n",
       "      <th>crew</th>\n",
       "    </tr>\n",
       "  </thead>\n",
       "  <tbody>\n",
       "    <tr>\n",
       "      <th>0</th>\n",
       "      <td>False</td>\n",
       "      <td>0</td>\n",
       "      <td>['Thriller', 'Horror']</td>\n",
       "      <td>en</td>\n",
       "      <td>The Northwoods</td>\n",
       "      <td>2.866</td>\n",
       "      <td>2021-01-01</td>\n",
       "      <td>0</td>\n",
       "      <td>0.0</td>\n",
       "      <td>['en']</td>\n",
       "      <td>In Production</td>\n",
       "      <td>The Northwoods</td>\n",
       "      <td>False</td>\n",
       "      <td>0.0</td>\n",
       "      <td>0</td>\n",
       "      <td>['190895', '1198672']</td>\n",
       "      <td>['1459977', '1459977', '1470374', '1546613', '...</td>\n",
       "    </tr>\n",
       "    <tr>\n",
       "      <th>1</th>\n",
       "      <td>False</td>\n",
       "      <td>0</td>\n",
       "      <td>['Thriller', 'Horror']</td>\n",
       "      <td>en</td>\n",
       "      <td>The Northwoods</td>\n",
       "      <td>2.866</td>\n",
       "      <td>2021-01-01</td>\n",
       "      <td>0</td>\n",
       "      <td>0.0</td>\n",
       "      <td>['en']</td>\n",
       "      <td>In Production</td>\n",
       "      <td>The Northwoods</td>\n",
       "      <td>False</td>\n",
       "      <td>0.0</td>\n",
       "      <td>0</td>\n",
       "      <td>['190895', '1198672']</td>\n",
       "      <td>['1459977', '1459977', '1470374', '1546613', '...</td>\n",
       "    </tr>\n",
       "    <tr>\n",
       "      <th>2</th>\n",
       "      <td>False</td>\n",
       "      <td>0</td>\n",
       "      <td>['Thriller', 'Crime']</td>\n",
       "      <td>en</td>\n",
       "      <td>The Little Things</td>\n",
       "      <td>3.315</td>\n",
       "      <td>2021-01-28</td>\n",
       "      <td>0</td>\n",
       "      <td>0.0</td>\n",
       "      <td>['en']</td>\n",
       "      <td>Post Production</td>\n",
       "      <td>The Little Things</td>\n",
       "      <td>False</td>\n",
       "      <td>0.0</td>\n",
       "      <td>0</td>\n",
       "      <td>['5292', '17838', '7499', '95039', '118752', '...</td>\n",
       "      <td>['892', '5162', '7855', '8411', '54040', '5404...</td>\n",
       "    </tr>\n",
       "    <tr>\n",
       "      <th>3</th>\n",
       "      <td>False</td>\n",
       "      <td>0</td>\n",
       "      <td>['Drama']</td>\n",
       "      <td>en</td>\n",
       "      <td>Babylon</td>\n",
       "      <td>4.613</td>\n",
       "      <td>2021-12-25</td>\n",
       "      <td>0</td>\n",
       "      <td>0.0</td>\n",
       "      <td>['en']</td>\n",
       "      <td>Planned</td>\n",
       "      <td>Babylon</td>\n",
       "      <td>False</td>\n",
       "      <td>0.0</td>\n",
       "      <td>0</td>\n",
       "      <td>['54693', '287', '2219', '5064', '135651']</td>\n",
       "      <td>['2219', '23485', '73453', '136495', '136495',...</td>\n",
       "    </tr>\n",
       "    <tr>\n",
       "      <th>6</th>\n",
       "      <td>False</td>\n",
       "      <td>0</td>\n",
       "      <td>['Drama']</td>\n",
       "      <td>en</td>\n",
       "      <td>Babylon</td>\n",
       "      <td>4.613</td>\n",
       "      <td>2021-12-25</td>\n",
       "      <td>0</td>\n",
       "      <td>0.0</td>\n",
       "      <td>['en']</td>\n",
       "      <td>Planned</td>\n",
       "      <td>Babylon</td>\n",
       "      <td>False</td>\n",
       "      <td>0.0</td>\n",
       "      <td>0</td>\n",
       "      <td>['54693', '287', '2219', '5064', '135651']</td>\n",
       "      <td>['2219', '23485', '73453', '136495', '136495',...</td>\n",
       "    </tr>\n",
       "  </tbody>\n",
       "</table>\n",
       "</div>"
      ],
      "text/plain": [
       "   adult  budget                  genres original_language     original_title  \\\n",
       "0  False       0  ['Thriller', 'Horror']                en     The Northwoods   \n",
       "1  False       0  ['Thriller', 'Horror']                en     The Northwoods   \n",
       "2  False       0   ['Thriller', 'Crime']                en  The Little Things   \n",
       "3  False       0               ['Drama']                en            Babylon   \n",
       "6  False       0               ['Drama']                en            Babylon   \n",
       "\n",
       "   popularity release_date  revenue  runtime spoken_languages  \\\n",
       "0       2.866   2021-01-01        0      0.0           ['en']   \n",
       "1       2.866   2021-01-01        0      0.0           ['en']   \n",
       "2       3.315   2021-01-28        0      0.0           ['en']   \n",
       "3       4.613   2021-12-25        0      0.0           ['en']   \n",
       "6       4.613   2021-12-25        0      0.0           ['en']   \n",
       "\n",
       "            status              title  video  vote_average  vote_count  \\\n",
       "0    In Production     The Northwoods  False           0.0           0   \n",
       "1    In Production     The Northwoods  False           0.0           0   \n",
       "2  Post Production  The Little Things  False           0.0           0   \n",
       "3          Planned            Babylon  False           0.0           0   \n",
       "6          Planned            Babylon  False           0.0           0   \n",
       "\n",
       "                                                cast  \\\n",
       "0                              ['190895', '1198672']   \n",
       "1                              ['190895', '1198672']   \n",
       "2  ['5292', '17838', '7499', '95039', '118752', '...   \n",
       "3         ['54693', '287', '2219', '5064', '135651']   \n",
       "6         ['54693', '287', '2219', '5064', '135651']   \n",
       "\n",
       "                                                crew  \n",
       "0  ['1459977', '1459977', '1470374', '1546613', '...  \n",
       "1  ['1459977', '1459977', '1470374', '1546613', '...  \n",
       "2  ['892', '5162', '7855', '8411', '54040', '5404...  \n",
       "3  ['2219', '23485', '73453', '136495', '136495',...  \n",
       "6  ['2219', '23485', '73453', '136495', '136495',...  "
      ]
     },
     "execution_count": 22,
     "metadata": {},
     "output_type": "execute_result"
    }
   ],
   "source": [
    "movies_df.head()"
   ]
  },
  {
   "cell_type": "code",
   "execution_count": 23,
   "metadata": {},
   "outputs": [
    {
     "data": {
      "text/plain": [
       "(183, 17)"
      ]
     },
     "execution_count": 23,
     "metadata": {},
     "output_type": "execute_result"
    }
   ],
   "source": [
    "movies_df.shape"
   ]
  },
  {
   "cell_type": "markdown",
   "metadata": {},
   "source": [
    "After discovering some transformation needed our dataset required, we finally got 153,850 values. Down from 250,000."
   ]
  },
  {
   "cell_type": "markdown",
   "metadata": {},
   "source": [
    "### Target attribute"
   ]
  },
  {
   "cell_type": "markdown",
   "metadata": {},
   "source": [
    "We already decided what is our target on classification......... We create a new column."
   ]
  },
  {
   "cell_type": "code",
   "execution_count": 24,
   "metadata": {},
   "outputs": [],
   "source": [
    "movies_df[\"success\"] = movies_df[\"vote_average\"].apply(lambda x: True if x > 8 else False)"
   ]
  },
  {
   "cell_type": "markdown",
   "metadata": {},
   "source": [
    "#### Visualize data"
   ]
  },
  {
   "cell_type": "markdown",
   "metadata": {},
   "source": [
    "#### Target attribute"
   ]
  },
  {
   "cell_type": "code",
   "execution_count": 25,
   "metadata": {},
   "outputs": [
    {
     "name": "stdout",
     "output_type": "stream",
     "text": [
      "success\n",
      "False    183\n",
      "dtype: int64\n"
     ]
    }
   ],
   "source": [
    "print(movies_df.groupby('success').size())"
   ]
  },
  {
   "cell_type": "code",
   "execution_count": 26,
   "metadata": {},
   "outputs": [
    {
     "data": {
      "text/plain": [
       "<matplotlib.axes._subplots.AxesSubplot at 0x1027e4290>"
      ]
     },
     "execution_count": 26,
     "metadata": {},
     "output_type": "execute_result"
    },
    {
     "data": {
      "image/png": "[encoded data removed]",
      "text/plain": [
       "<Figure size 432x288 with 1 Axes>"
      ]
     },
     "metadata": {
      "needs_background": "light"
     },
     "output_type": "display_data"
    }
   ],
   "source": [
    "sns.countplot(movies_df['success'], label=\"Count\")"
   ]
  },
  {
   "cell_type": "markdown",
   "metadata": {},
   "source": [
    "Our data is unbalanced. Later we will need to use some techniques to balance it."
   ]
  },
  {
   "cell_type": "markdown",
   "metadata": {},
   "source": [
    "#### Visualize Correlations"
   ]
  },
  {
   "cell_type": "code",
   "execution_count": 27,
   "metadata": {},
   "outputs": [
    {
     "data": {
      "text/plain": [
       "(9.5, -0.5)"
      ]
     },
     "execution_count": 27,
     "metadata": {},
     "output_type": "execute_result"
    },
    {
     "data": {
      "image/png": "[encoded data removed]",
      "text/plain": [
       "<Figure size 576x576 with 2 Axes>"
      ]
     },
     "metadata": {},
     "output_type": "display_data"
    }
   ],
   "source": [
    "# Correlation Matrix Heatmap Visualization (should run this code again after removing outliers/zero values)\n",
    "sns.set(style=\"white\")\n",
    "# Generate a mask for the upper triangle\n",
    "mask = np.zeros_like(movies_df.corr(), dtype=np.bool)\n",
    "mask[np.triu_indices_from(mask)] = True\n",
    "# Set up the matplotlib figure to control size of heatmap\n",
    "fig, ax = plt.subplots(figsize=(8,8))\n",
    "# Create a custom color palette\n",
    "cmap = sns.diverging_palette(255, 10, as_cmap=True)  # as_cmap returns a matplotlib colormap object rather than a list of colors\n",
    "# Red=10, Green=128, Blue=255\n",
    "# Plot the heatmap\n",
    "sns.heatmap(movies_df.corr(), mask=mask, annot=True, square=True, cmap=cmap , vmin=-1, vmax=1, ax=ax)  # annot display corr label\n",
    "# Prevent Heatmap Cut-Off Issue\n",
    "bottom, top = ax.get_ylim()\n",
    "ax.set_ylim(bottom+0.5, top-0.5)"
   ]
  },
  {
   "cell_type": "code",
   "execution_count": 28,
   "metadata": {},
   "outputs": [
    {
     "data": {
      "text/html": [
       "<div>\n",
       "<style scoped>\n",
       "    .dataframe tbody tr th:only-of-type {\n",
       "        vertical-align: middle;\n",
       "    }\n",
       "\n",
       "    .dataframe tbody tr th {\n",
       "        vertical-align: top;\n",
       "    }\n",
       "\n",
       "    .dataframe thead th {\n",
       "        text-align: right;\n",
       "    }\n",
       "</style>\n",
       "<table border=\"1\" class=\"dataframe\">\n",
       "  <thead>\n",
       "    <tr style=\"text-align: right;\">\n",
       "      <th></th>\n",
       "      <th>adult</th>\n",
       "      <th>budget</th>\n",
       "      <th>genres</th>\n",
       "      <th>original_language</th>\n",
       "      <th>original_title</th>\n",
       "      <th>popularity</th>\n",
       "      <th>release_date</th>\n",
       "      <th>revenue</th>\n",
       "      <th>runtime</th>\n",
       "      <th>spoken_languages</th>\n",
       "      <th>status</th>\n",
       "      <th>title</th>\n",
       "      <th>video</th>\n",
       "      <th>vote_average</th>\n",
       "      <th>vote_count</th>\n",
       "      <th>cast</th>\n",
       "      <th>crew</th>\n",
       "      <th>success</th>\n",
       "    </tr>\n",
       "  </thead>\n",
       "  <tbody>\n",
       "    <tr>\n",
       "      <th>0</th>\n",
       "      <td>False</td>\n",
       "      <td>0</td>\n",
       "      <td>['Thriller', 'Horror']</td>\n",
       "      <td>en</td>\n",
       "      <td>The Northwoods</td>\n",
       "      <td>2.866</td>\n",
       "      <td>2021-01-01</td>\n",
       "      <td>0</td>\n",
       "      <td>0.0</td>\n",
       "      <td>['en']</td>\n",
       "      <td>In Production</td>\n",
       "      <td>The Northwoods</td>\n",
       "      <td>False</td>\n",
       "      <td>0.0</td>\n",
       "      <td>0</td>\n",
       "      <td>['190895', '1198672']</td>\n",
       "      <td>['1459977', '1459977', '1470374', '1546613', '...</td>\n",
       "      <td>False</td>\n",
       "    </tr>\n",
       "    <tr>\n",
       "      <th>1</th>\n",
       "      <td>False</td>\n",
       "      <td>0</td>\n",
       "      <td>['Thriller', 'Horror']</td>\n",
       "      <td>en</td>\n",
       "      <td>The Northwoods</td>\n",
       "      <td>2.866</td>\n",
       "      <td>2021-01-01</td>\n",
       "      <td>0</td>\n",
       "      <td>0.0</td>\n",
       "      <td>['en']</td>\n",
       "      <td>In Production</td>\n",
       "      <td>The Northwoods</td>\n",
       "      <td>False</td>\n",
       "      <td>0.0</td>\n",
       "      <td>0</td>\n",
       "      <td>['190895', '1198672']</td>\n",
       "      <td>['1459977', '1459977', '1470374', '1546613', '...</td>\n",
       "      <td>False</td>\n",
       "    </tr>\n",
       "    <tr>\n",
       "      <th>2</th>\n",
       "      <td>False</td>\n",
       "      <td>0</td>\n",
       "      <td>['Thriller', 'Crime']</td>\n",
       "      <td>en</td>\n",
       "      <td>The Little Things</td>\n",
       "      <td>3.315</td>\n",
       "      <td>2021-01-28</td>\n",
       "      <td>0</td>\n",
       "      <td>0.0</td>\n",
       "      <td>['en']</td>\n",
       "      <td>Post Production</td>\n",
       "      <td>The Little Things</td>\n",
       "      <td>False</td>\n",
       "      <td>0.0</td>\n",
       "      <td>0</td>\n",
       "      <td>['5292', '17838', '7499', '95039', '118752', '...</td>\n",
       "      <td>['892', '5162', '7855', '8411', '54040', '5404...</td>\n",
       "      <td>False</td>\n",
       "    </tr>\n",
       "    <tr>\n",
       "      <th>3</th>\n",
       "      <td>False</td>\n",
       "      <td>0</td>\n",
       "      <td>['Drama']</td>\n",
       "      <td>en</td>\n",
       "      <td>Babylon</td>\n",
       "      <td>4.613</td>\n",
       "      <td>2021-12-25</td>\n",
       "      <td>0</td>\n",
       "      <td>0.0</td>\n",
       "      <td>['en']</td>\n",
       "      <td>Planned</td>\n",
       "      <td>Babylon</td>\n",
       "      <td>False</td>\n",
       "      <td>0.0</td>\n",
       "      <td>0</td>\n",
       "      <td>['54693', '287', '2219', '5064', '135651']</td>\n",
       "      <td>['2219', '23485', '73453', '136495', '136495',...</td>\n",
       "      <td>False</td>\n",
       "    </tr>\n",
       "    <tr>\n",
       "      <th>6</th>\n",
       "      <td>False</td>\n",
       "      <td>0</td>\n",
       "      <td>['Drama']</td>\n",
       "      <td>en</td>\n",
       "      <td>Babylon</td>\n",
       "      <td>4.613</td>\n",
       "      <td>2021-12-25</td>\n",
       "      <td>0</td>\n",
       "      <td>0.0</td>\n",
       "      <td>['en']</td>\n",
       "      <td>Planned</td>\n",
       "      <td>Babylon</td>\n",
       "      <td>False</td>\n",
       "      <td>0.0</td>\n",
       "      <td>0</td>\n",
       "      <td>['54693', '287', '2219', '5064', '135651']</td>\n",
       "      <td>['2219', '23485', '73453', '136495', '136495',...</td>\n",
       "      <td>False</td>\n",
       "    </tr>\n",
       "  </tbody>\n",
       "</table>\n",
       "</div>"
      ],
      "text/plain": [
       "   adult  budget                  genres original_language     original_title  \\\n",
       "0  False       0  ['Thriller', 'Horror']                en     The Northwoods   \n",
       "1  False       0  ['Thriller', 'Horror']                en     The Northwoods   \n",
       "2  False       0   ['Thriller', 'Crime']                en  The Little Things   \n",
       "3  False       0               ['Drama']                en            Babylon   \n",
       "6  False       0               ['Drama']                en            Babylon   \n",
       "\n",
       "   popularity release_date  revenue  runtime spoken_languages  \\\n",
       "0       2.866   2021-01-01        0      0.0           ['en']   \n",
       "1       2.866   2021-01-01        0      0.0           ['en']   \n",
       "2       3.315   2021-01-28        0      0.0           ['en']   \n",
       "3       4.613   2021-12-25        0      0.0           ['en']   \n",
       "6       4.613   2021-12-25        0      0.0           ['en']   \n",
       "\n",
       "            status              title  video  vote_average  vote_count  \\\n",
       "0    In Production     The Northwoods  False           0.0           0   \n",
       "1    In Production     The Northwoods  False           0.0           0   \n",
       "2  Post Production  The Little Things  False           0.0           0   \n",
       "3          Planned            Babylon  False           0.0           0   \n",
       "6          Planned            Babylon  False           0.0           0   \n",
       "\n",
       "                                                cast  \\\n",
       "0                              ['190895', '1198672']   \n",
       "1                              ['190895', '1198672']   \n",
       "2  ['5292', '17838', '7499', '95039', '118752', '...   \n",
       "3         ['54693', '287', '2219', '5064', '135651']   \n",
       "6         ['54693', '287', '2219', '5064', '135651']   \n",
       "\n",
       "                                                crew  success  \n",
       "0  ['1459977', '1459977', '1470374', '1546613', '...    False  \n",
       "1  ['1459977', '1459977', '1470374', '1546613', '...    False  \n",
       "2  ['892', '5162', '7855', '8411', '54040', '5404...    False  \n",
       "3  ['2219', '23485', '73453', '136495', '136495',...    False  \n",
       "6  ['2219', '23485', '73453', '136495', '136495',...    False  "
      ]
     },
     "execution_count": 28,
     "metadata": {},
     "output_type": "execute_result"
    }
   ],
   "source": [
    "movies_df.head()"
   ]
  },
  {
   "cell_type": "code",
   "execution_count": 29,
   "metadata": {},
   "outputs": [],
   "source": [
    "movies_df.to_csv(\"../data/processed/transformation/movies_explored_list.csv\")"
   ]
  },
  {
   "cell_type": "markdown",
   "metadata": {},
   "source": [
    "#### Insights"
   ]
  },
  {
   "cell_type": "markdown",
   "metadata": {},
   "source": [
    "- adult columns is object instead of bool.\n",
    "- Budget column was object instead of numeric.\n",
    "- Many not useful data. We need to get rid of.\n",
    "- Many null values. We need to remove the ones from release_date, runtime ffill?"
   ]
  },
  {
   "cell_type": "code",
   "execution_count": null,
   "metadata": {},
   "outputs": [],
   "source": []
  }
 ],
 "metadata": {
  "kernelspec": {
   "display_name": "Python 3",
   "language": "python",
   "name": "python3"
  },
  "language_info": {
   "codemirror_mode": {
    "name": "ipython",
    "version": 3
   },
   "file_extension": ".py",
   "mimetype": "text/x-python",
   "name": "python",
   "nbconvert_exporter": "python",
   "pygments_lexer": "ipython3",
   "version": "3.7.7"
  }
 },
 "nbformat": 4,
 "nbformat_minor": 2
}
