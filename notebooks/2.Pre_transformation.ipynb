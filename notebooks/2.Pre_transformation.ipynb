{
 "cells": [
  {
   "cell_type": "markdown",
   "metadata": {},
   "source": [
    "We have built our dataset successfully. There are still some cells that still contains JSON responses. In this notebook, we will transform our dataset to be able to explore it correctly."
   ]
  },
  {
   "cell_type": "markdown",
   "metadata": {},
   "source": [
    "## Imports"
   ]
  },
  {
   "cell_type": "code",
   "execution_count": 1,
   "metadata": {},
   "outputs": [],
   "source": [
    "import pandas as pd\n",
    "import numpy as np\n",
    "\n",
    "import sys\n",
    "sys.path.append('../source/')\n",
    "\n",
    "import helpers"
   ]
  },
  {
   "cell_type": "markdown",
   "metadata": {},
   "source": [
    "## Pre-transformation"
   ]
  },
  {
   "cell_type": "markdown",
   "metadata": {},
   "source": [
    "Here we retrieve the dataset exported in the previous notebook."
   ]
  },
  {
   "cell_type": "code",
   "execution_count": 2,
   "metadata": {},
   "outputs": [
    {
     "name": "stderr",
     "output_type": "stream",
     "text": [
      "/usr/local/Cellar/ipython/7.8.0/libexec/lib/python3.7/site-packages/IPython/core/interactiveshell.py:3058: DtypeWarning: Columns (0,1,2,3,4,5,6,8,9,10,11,12,13,14,15,16,19,20,21,22,23,26,28) have mixed types. Specify dtype option on import or set low_memory=False.\n",
      "  interactivity=interactivity, compiler=compiler, result=result)\n"
     ]
    }
   ],
   "source": [
    "movies_df = pd.read_csv(\"../data/processed/dataset_builder/movies_list.csv\", sep=',', index_col=0)"
   ]
  },
  {
   "cell_type": "markdown",
   "metadata": {},
   "source": [
    "We exported our dataset with movies duplicated. We here remove the duplicates and reset the index. "
   ]
  },
  {
   "cell_type": "code",
   "execution_count": 3,
   "metadata": {
    "scrolled": true
   },
   "outputs": [],
   "source": [
    "movies_df = movies_df[~movies_df.index.duplicated()]"
   ]
  },
  {
   "cell_type": "code",
   "execution_count": 4,
   "metadata": {},
   "outputs": [],
   "source": [
    "movies_df.reset_index(inplace=True)"
   ]
  },
  {
   "cell_type": "markdown",
   "metadata": {},
   "source": [
    "As we can see,`genre`, `production_companies`, `production_countries`, `spoken_languages`, `cast` and `crew` columns still contain JSON format. The purpose of this notebook is not to detect NaNs or outliers but to pre-transform our dataset to get a more accurate dataset possible for the next steps.\n",
    "\n",
    "For `genres`, `production_companies`, `production_countries` and `spoken_languages` we coded a helper to retrieve only the id wanted from the json, passing the regex expression. We will do the same for `cast` and `crew` but we first need to split into two from `Credits` one."
   ]
  },
  {
   "cell_type": "markdown",
   "metadata": {},
   "source": [
    "### Genres"
   ]
  },
  {
   "cell_type": "code",
   "execution_count": 5,
   "metadata": {},
   "outputs": [
    {
     "data": {
      "text/plain": [
       "0         [{'id': 80, 'name': 'Crime'}, {'id': 9648, 'na...\n",
       "1                            [{'id': 27, 'name': 'Horror'}]\n",
       "2                            [{'id': 28, 'name': 'Action'}]\n",
       "3                                                        []\n",
       "4                             [{'id': 18, 'name': 'Drama'}]\n",
       "                                ...                        \n",
       "251019                  [{'id': 99, 'name': 'Documentary'}]\n",
       "251020    [{'id': 36, 'name': 'History'}, {'id': 10752, ...\n",
       "251021                  [{'id': 99, 'name': 'Documentary'}]\n",
       "251022    [{'id': 99, 'name': 'Documentary'}, {'id': 18,...\n",
       "251023                       [{'id': 35, 'name': 'Comedy'}]\n",
       "Name: genres, Length: 251024, dtype: object"
      ]
     },
     "execution_count": 5,
     "metadata": {},
     "output_type": "execute_result"
    }
   ],
   "source": [
    "movies_df.genres"
   ]
  },
  {
   "cell_type": "code",
   "execution_count": 6,
   "metadata": {},
   "outputs": [],
   "source": [
    "helpers.from_json_to_array(movies_df, \"genres\", \"name': '([^,]+)'}\")"
   ]
  },
  {
   "cell_type": "code",
   "execution_count": 7,
   "metadata": {},
   "outputs": [
    {
     "data": {
      "text/plain": [
       "0         [Crime, Mystery, Drama, Thriller, Horror]\n",
       "1                                          [Horror]\n",
       "2                                          [Action]\n",
       "3                                                []\n",
       "4                                           [Drama]\n",
       "                            ...                    \n",
       "251019                                [Documentary]\n",
       "251020                               [History, War]\n",
       "251021                                [Documentary]\n",
       "251022                         [Documentary, Drama]\n",
       "251023                                     [Comedy]\n",
       "Name: genres, Length: 251024, dtype: object"
      ]
     },
     "execution_count": 7,
     "metadata": {},
     "output_type": "execute_result"
    }
   ],
   "source": [
    "movies_df.genres"
   ]
  },
  {
   "cell_type": "markdown",
   "metadata": {},
   "source": [
    "### Production Companies"
   ]
  },
  {
   "cell_type": "code",
   "execution_count": 8,
   "metadata": {},
   "outputs": [
    {
     "data": {
      "text/plain": [
       "0         [{'id': 82343, 'logo_path': None, 'name': 'Pel...\n",
       "1         [{'id': 43628, 'logo_path': None, 'name': 'LaL...\n",
       "2                                                        []\n",
       "3                                                        []\n",
       "4         [{'id': 37786, 'logo_path': None, 'name': 'Fig...\n",
       "                                ...                        \n",
       "251019                                                   []\n",
       "251020                                                   []\n",
       "251021                                                   []\n",
       "251022                                                   []\n",
       "251023    [{'id': 90562, 'logo_path': '/qII3jJQ4S32FgJRl...\n",
       "Name: production_companies, Length: 251024, dtype: object"
      ]
     },
     "execution_count": 8,
     "metadata": {},
     "output_type": "execute_result"
    }
   ],
   "source": [
    "movies_df.production_companies"
   ]
  },
  {
   "cell_type": "code",
   "execution_count": 9,
   "metadata": {},
   "outputs": [],
   "source": [
    "helpers.from_json_to_array(movies_df, \"production_companies\", \"id': ([^,]+)\")"
   ]
  },
  {
   "cell_type": "code",
   "execution_count": 10,
   "metadata": {},
   "outputs": [
    {
     "data": {
      "text/plain": [
       "0                                 [82343]\n",
       "1                                 [43628]\n",
       "2                                      []\n",
       "3                                      []\n",
       "4                    [37786, 37787, 1660]\n",
       "                       ...               \n",
       "251019                                 []\n",
       "251020                                 []\n",
       "251021                                 []\n",
       "251022                                 []\n",
       "251023    [90562, 8906, 7981, 356, 11773]\n",
       "Name: production_companies, Length: 251024, dtype: object"
      ]
     },
     "execution_count": 10,
     "metadata": {},
     "output_type": "execute_result"
    }
   ],
   "source": [
    "movies_df.production_companies"
   ]
  },
  {
   "cell_type": "markdown",
   "metadata": {},
   "source": [
    "### Production Countries"
   ]
  },
  {
   "cell_type": "code",
   "execution_count": 11,
   "metadata": {},
   "outputs": [
    {
     "data": {
      "text/plain": [
       "0         [{'iso_3166_1': 'MX', 'name': 'Mexico'}, {'iso...\n",
       "1         [{'iso_3166_1': 'US', 'name': 'United States o...\n",
       "2         [{'iso_3166_1': 'CN', 'name': 'China'}, {'iso_...\n",
       "3                                                        []\n",
       "4         [{'iso_3166_1': 'MX', 'name': 'Mexico'}, {'iso...\n",
       "                                ...                        \n",
       "251019             [{'iso_3166_1': 'RU', 'name': 'Russia'}]\n",
       "251020              [{'iso_3166_1': 'CN', 'name': 'China'}]\n",
       "251021             [{'iso_3166_1': 'RU', 'name': 'Russia'}]\n",
       "251022                                                   []\n",
       "251023             [{'iso_3166_1': 'FR', 'name': 'France'}]\n",
       "Name: production_countries, Length: 251024, dtype: object"
      ]
     },
     "execution_count": 11,
     "metadata": {},
     "output_type": "execute_result"
    }
   ],
   "source": [
    "movies_df.production_countries"
   ]
  },
  {
   "cell_type": "code",
   "execution_count": 12,
   "metadata": {},
   "outputs": [],
   "source": [
    "helpers.from_json_to_array(movies_df, \"production_countries\", \"iso_3166_1': '([^,]+)'\")"
   ]
  },
  {
   "cell_type": "code",
   "execution_count": 13,
   "metadata": {},
   "outputs": [
    {
     "data": {
      "text/plain": [
       "0         [MX, ES]\n",
       "1             [US]\n",
       "2         [CN, HK]\n",
       "3               []\n",
       "4         [MX, ES]\n",
       "            ...   \n",
       "251019        [RU]\n",
       "251020        [CN]\n",
       "251021        [RU]\n",
       "251022          []\n",
       "251023        [FR]\n",
       "Name: production_countries, Length: 251024, dtype: object"
      ]
     },
     "execution_count": 13,
     "metadata": {},
     "output_type": "execute_result"
    }
   ],
   "source": [
    "movies_df.production_countries"
   ]
  },
  {
   "cell_type": "markdown",
   "metadata": {},
   "source": [
    "### Spoken Languages"
   ]
  },
  {
   "cell_type": "code",
   "execution_count": 14,
   "metadata": {},
   "outputs": [
    {
     "data": {
      "text/plain": [
       "0                  [{'iso_639_1': 'es', 'name': 'Español'}]\n",
       "1                  [{'iso_639_1': 'en', 'name': 'English'}]\n",
       "2         [{'iso_639_1': 'cn', 'name': '广州话 / 廣州話'}, {'i...\n",
       "3                                                        []\n",
       "4                  [{'iso_639_1': 'es', 'name': 'Español'}]\n",
       "                                ...                        \n",
       "251019             [{'iso_639_1': 'ru', 'name': 'Pусский'}]\n",
       "251020                 [{'iso_639_1': 'zh', 'name': '普通话'}]\n",
       "251021             [{'iso_639_1': 'ru', 'name': 'Pусский'}]\n",
       "251022             [{'iso_639_1': 'es', 'name': 'Español'}]\n",
       "251023            [{'iso_639_1': 'fr', 'name': 'Français'}]\n",
       "Name: spoken_languages, Length: 251024, dtype: object"
      ]
     },
     "execution_count": 14,
     "metadata": {},
     "output_type": "execute_result"
    }
   ],
   "source": [
    "movies_df.spoken_languages"
   ]
  },
  {
   "cell_type": "code",
   "execution_count": 15,
   "metadata": {},
   "outputs": [],
   "source": [
    "helpers.from_json_to_array(movies_df, \"spoken_languages\", \"iso_639_1': '([^,]+)'\")"
   ]
  },
  {
   "cell_type": "code",
   "execution_count": 16,
   "metadata": {
    "scrolled": true
   },
   "outputs": [
    {
     "data": {
      "text/plain": [
       "0             [es]\n",
       "1             [en]\n",
       "2         [cn, zh]\n",
       "3               []\n",
       "4             [es]\n",
       "            ...   \n",
       "251019        [ru]\n",
       "251020        [zh]\n",
       "251021        [ru]\n",
       "251022        [es]\n",
       "251023        [fr]\n",
       "Name: spoken_languages, Length: 251024, dtype: object"
      ]
     },
     "execution_count": 16,
     "metadata": {},
     "output_type": "execute_result"
    }
   ],
   "source": [
    "movies_df.spoken_languages"
   ]
  },
  {
   "cell_type": "markdown",
   "metadata": {},
   "source": [
    "### Credits"
   ]
  },
  {
   "cell_type": "markdown",
   "metadata": {},
   "source": [
    "To pre-transform the credits column, we will first split it into two new columns. `Crew` and `Cast`."
   ]
  },
  {
   "cell_type": "code",
   "execution_count": 17,
   "metadata": {},
   "outputs": [],
   "source": [
    "helpers.split_credits_column(movies_df)"
   ]
  },
  {
   "cell_type": "markdown",
   "metadata": {},
   "source": [
    "#### Cast"
   ]
  },
  {
   "cell_type": "code",
   "execution_count": 18,
   "metadata": {},
   "outputs": [],
   "source": [
    "helpers.from_json_to_array(movies_df, \"cast\", \"'id': ([^,]+)\")"
   ]
  },
  {
   "cell_type": "markdown",
   "metadata": {},
   "source": [
    "#### Crew"
   ]
  },
  {
   "cell_type": "code",
   "execution_count": 19,
   "metadata": {},
   "outputs": [],
   "source": [
    "helpers.from_json_to_array(movies_df, \"crew\", \"'id': ([^,]+)\")"
   ]
  },
  {
   "cell_type": "markdown",
   "metadata": {},
   "source": [
    "We pre-transformed our data successfully! Please, go to the next notebook called `2.1.People_Pre_Transformation.ipynb` to create our People dataset and be able to encode our `Cast` column. "
   ]
  },
  {
   "cell_type": "code",
   "execution_count": 20,
   "metadata": {},
   "outputs": [],
   "source": [
    "movies_df.to_csv(\"../data/processed/transformation/movies_transformed_list.csv\")"
   ]
  }
 ],
 "metadata": {
  "kernelspec": {
   "display_name": "Python 3",
   "language": "python",
   "name": "python3"
  },
  "language_info": {
   "codemirror_mode": {
    "name": "ipython",
    "version": 3
   },
   "file_extension": ".py",
   "mimetype": "text/x-python",
   "name": "python",
   "nbconvert_exporter": "python",
   "pygments_lexer": "ipython3",
   "version": "3.7.7"
  },
  "toc": {
   "base_numbering": 1,
   "nav_menu": {},
   "number_sections": true,
   "sideBar": true,
   "skip_h1_title": false,
   "title_cell": "Table of Contents",
   "title_sidebar": "Contents",
   "toc_cell": false,
   "toc_position": {},
   "toc_section_display": true,
   "toc_window_display": false
  }
 },
 "nbformat": 4,
 "nbformat_minor": 2
}
